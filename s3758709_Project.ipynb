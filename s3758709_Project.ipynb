{
 "cells": [
  {
   "cell_type": "markdown",
   "metadata": {},
   "source": [
    "# MACHINE LEARNING COURSE PROJECT \n",
    "**GROUP NAME: GROUP 90 CLOSED <br>\n",
    "GROUP MEMBERS: THIMIRA DULSHAN GUNATHILAKA MASTIYAGE DON - s3758709 <br>\n",
    "               SAMALKA WEDARATNE NANAYAKKARA TALPE MERENCHIGE - s3758710**"
   ]
  },
  {
   "cell_type": "markdown",
   "metadata": {},
   "source": [
    "## PREDICTING WHETHER A CUSTOMER WILL SUBSCRIBE A TERM DEPOSIT OR NOT"
   ]
  },
  {
   "cell_type": "markdown",
   "metadata": {},
   "source": [
    "**DATA SOURCE:** <br> \n",
    "The Dataset was found from the UCI Machine Learning repository. The link to the actual dataset is referenced at the bottom of the report. The Dataset is called “Bank Marketing Dataset”. The Data folder consists of 4 different csv files in which two of these were updated versions with more features. From these two, we selected the csv file named “bank-additional.csv” which is a subset of its full version with only 4119 instances which is only a 10% of its full version due to our computational power limit as well as due to the requirements of this project. The dataset was then renamed according to project’s requirement. The bank dataset consists of 20 descriptive feature excluding the target feature which is denoted by ‘y’. A vague description of the features, their types and whether they have any missing values and what the target variable are mentioned in the text file that came with dataset.\n",
    "<br> The following are the features.\n",
    " 1. age (numeric)\n",
    " 2. job : type of job (categorical: \"admin.\",\"blue-collar\",\"entrepreneur\",\"housemaid\",\"management\",\"retired\",\"self-employed\",\"services\",\"student\",\"technician\",\"unemployed\",\"unknown\")\n",
    " 3. marital : marital status (categorical: \"divorced\",\"married\",\"single\",\"unknown\"; note: \"divorced\" means divorced or widowed)\n",
    " 4. education (categorical: \"basic.4y\",\"basic.6y\",\"basic.9y\",\"high.school\",\"illiterate\",\"professional.course\",\"university.degree\",\"unknown\")\n",
    " 5. default: has credit in default? (categorical: \"no\",\"yes\",\"unknown\")\n",
    " 6. housing: has housing loan? (categorical: \"no\",\"yes\",\"unknown\")\n",
    " 7. loan: has personal loan? (categorical: \"no\",\"yes\",\"unknown\")\n",
    "       related with the last contact of the current campaign:\n",
    " 8. contact: contact communication type (categorical: \"cellular\",\"telephone\") \n",
    " 9. month: last contact month of year (categorical: \"jan\", \"feb\", \"mar\", ..., \"nov\", \"dec\")\n",
    " 10. day_of_week: last contact day of the week (categorical: \"mon\",\"tue\",\"wed\",\"thu\",\"fri\")\n",
    " 11. duration: last contact duration, in seconds (numeric). Important note:  this attribute highly affects the output target (e.g., if duration=0 then y=\"no\"). Yet, the duration is not known before a call is performed. Also, after the end of the call y is obviously known. Thus, this input should only be included for benchmark purposes and should be discarded if the intention is to have a realistic predictive model.\n",
    "       other attributes:\n",
    " 12. campaign: number of contacts performed during this campaign and for this client (numeric, includes last contact)\n",
    " 13. pdays: number of days that passed by after the client was last contacted from a previous campaign (numeric; 999 means client was not previously contacted)\n",
    " 14. previous: number of contacts performed before this campaign and for this client (numeric)\n",
    " 15. poutcome: outcome of the previous marketing campaign (categorical: \"failure\",\"nonexistent\",\"success\")\n",
    "       social and economic context attributes\n",
    " 16. emp.var.rate: employment variation rate - quarterly indicator (numeric)\n",
    " 17. cons.price.idx: consumer price index - monthly indicator (numeric)     \n",
    " 18. cons.conf.idx: consumer confidence index - monthly indicator (numeric)     \n",
    " 19. euribor3m: euribor 3 month rate - daily indicator (numeric)\n",
    " 20. nr.employed: number of employees - quarterly indicator (numeric)\n",
    "\n",
    "  Output variable (desired target):\n",
    " 21. y - has the client subscribed a term deposit? (binary: \"yes\",\"no\")\n"
   ]
  },
  {
   "cell_type": "markdown",
   "metadata": {},
   "source": [
    "The following statement was also mentioned in the file: “Missing Attribute Values: There are several missing values in some categorical attributes, all coded with the \"unknown\" label. These missing values can be treated as a possible class label or using deletion or imputation techniques.” "
   ]
  },
  {
   "cell_type": "markdown",
   "metadata": {},
   "source": [
    "# CONTENTS\n",
    "1. OBJECTIVES\n",
    "2. DATA PRE-PROCESSING\n",
    "3. DATA EXPLORATION AND VISUALIZATION\n",
    "4. PREDICTIVE MODELING \n",
    "   - METHODOLOGY\n",
    "   - FEATURE SELECTION \n",
    "   - HYPER PARAMETER TUNING \n",
    "   - PERFORMANCE COMPARISON \n",
    "   - CRITIQUE \n",
    "5. SUMMARY AND CONCLUSION"
   ]
  },
  {
   "cell_type": "markdown",
   "metadata": {},
   "source": [
    "# OBJECTIVES\n",
    "There are several reasons for selecting this dataset. One of which being that the dataset comes from a very reputable machine learning source. Another major reason being the fact that we can understand the dataset in order to build a story out of it. Many other datasets we experienced had most of it’s information either encapsulated or were not in our interest fields. (Example medical or biological datasets). The following points discuss our goals and objectives for this project. \n",
    "\n",
    "- **The main goal is a binary classification goal** to predict if the client will subscribe a bank term deposit (variable y) or not.\n",
    "- **Other goals for exploration purposes:**\n",
    "   - Explore the relationship between different demographic data of clients (Age, Education level, and marital status) and whether there’s a relationship between having a personal loan or a house loan or and etc.  \n",
    "   - Are most clients more optimistic or pessimistic (Consumer Confidence Index gives us an idea on this) \n",
    "   - The age distribution of clients who use Banking services which can help in which age category to approach more in future.\n",
    "   - Is there any relationship between the Consumer price index and the age of the client?\n",
    "   - Explore the relationship between Age and Marital Status of customers/clients? (Ex: Are more middle aged people married or single) \n",
    "   - Does the number of times a client is contacted (from the marketing campaign) effects in securing a term deposit with them? \n"
   ]
  },
  {
   "cell_type": "markdown",
   "metadata": {},
   "source": [
    "# DATA PRE PROCESSING"
   ]
  },
  {
   "cell_type": "code",
   "execution_count": 1,
   "metadata": {},
   "outputs": [],
   "source": [
    "import warnings\n",
    "warnings.filterwarnings(\"ignore\")\n",
    "import numpy as np\n",
    "import pandas as pd\n",
    "from sklearn import preprocessing\n",
    "\n",
    "#displayig all columns in the data set\n",
    "pd.set_option('display.max_columns',None)"
   ]
  },
  {
   "cell_type": "code",
   "execution_count": 2,
   "metadata": {},
   "outputs": [
    {
     "data": {
      "text/html": [
       "<div>\n",
       "<style scoped>\n",
       "    .dataframe tbody tr th:only-of-type {\n",
       "        vertical-align: middle;\n",
       "    }\n",
       "\n",
       "    .dataframe tbody tr th {\n",
       "        vertical-align: top;\n",
       "    }\n",
       "\n",
       "    .dataframe thead th {\n",
       "        text-align: right;\n",
       "    }\n",
       "</style>\n",
       "<table border=\"1\" class=\"dataframe\">\n",
       "  <thead>\n",
       "    <tr style=\"text-align: right;\">\n",
       "      <th></th>\n",
       "      <th>age</th>\n",
       "      <th>job</th>\n",
       "      <th>marital</th>\n",
       "      <th>education</th>\n",
       "      <th>default</th>\n",
       "      <th>housing</th>\n",
       "      <th>loan</th>\n",
       "      <th>contact</th>\n",
       "      <th>month</th>\n",
       "      <th>day_of_week</th>\n",
       "      <th>duration</th>\n",
       "      <th>campaign</th>\n",
       "      <th>pdays</th>\n",
       "      <th>previous</th>\n",
       "      <th>poutcome</th>\n",
       "      <th>emp.var.rate</th>\n",
       "      <th>cons.price.idx</th>\n",
       "      <th>cons.conf.idx</th>\n",
       "      <th>euribor3m</th>\n",
       "      <th>nr.employed</th>\n",
       "      <th>y</th>\n",
       "    </tr>\n",
       "  </thead>\n",
       "  <tbody>\n",
       "    <tr>\n",
       "      <th>0</th>\n",
       "      <td>30</td>\n",
       "      <td>blue-collar</td>\n",
       "      <td>married</td>\n",
       "      <td>basic.9y</td>\n",
       "      <td>no</td>\n",
       "      <td>yes</td>\n",
       "      <td>no</td>\n",
       "      <td>cellular</td>\n",
       "      <td>may</td>\n",
       "      <td>fri</td>\n",
       "      <td>487</td>\n",
       "      <td>2</td>\n",
       "      <td>999</td>\n",
       "      <td>0</td>\n",
       "      <td>nonexistent</td>\n",
       "      <td>-1.8</td>\n",
       "      <td>92.893</td>\n",
       "      <td>-46.2</td>\n",
       "      <td>1.313</td>\n",
       "      <td>5099.1</td>\n",
       "      <td>no</td>\n",
       "    </tr>\n",
       "    <tr>\n",
       "      <th>1</th>\n",
       "      <td>39</td>\n",
       "      <td>services</td>\n",
       "      <td>single</td>\n",
       "      <td>high.school</td>\n",
       "      <td>no</td>\n",
       "      <td>no</td>\n",
       "      <td>no</td>\n",
       "      <td>telephone</td>\n",
       "      <td>may</td>\n",
       "      <td>fri</td>\n",
       "      <td>346</td>\n",
       "      <td>4</td>\n",
       "      <td>999</td>\n",
       "      <td>0</td>\n",
       "      <td>nonexistent</td>\n",
       "      <td>1.1</td>\n",
       "      <td>93.994</td>\n",
       "      <td>-36.4</td>\n",
       "      <td>4.855</td>\n",
       "      <td>5191.0</td>\n",
       "      <td>no</td>\n",
       "    </tr>\n",
       "    <tr>\n",
       "      <th>2</th>\n",
       "      <td>25</td>\n",
       "      <td>services</td>\n",
       "      <td>married</td>\n",
       "      <td>high.school</td>\n",
       "      <td>no</td>\n",
       "      <td>yes</td>\n",
       "      <td>no</td>\n",
       "      <td>telephone</td>\n",
       "      <td>jun</td>\n",
       "      <td>wed</td>\n",
       "      <td>227</td>\n",
       "      <td>1</td>\n",
       "      <td>999</td>\n",
       "      <td>0</td>\n",
       "      <td>nonexistent</td>\n",
       "      <td>1.4</td>\n",
       "      <td>94.465</td>\n",
       "      <td>-41.8</td>\n",
       "      <td>4.962</td>\n",
       "      <td>5228.1</td>\n",
       "      <td>no</td>\n",
       "    </tr>\n",
       "    <tr>\n",
       "      <th>3</th>\n",
       "      <td>38</td>\n",
       "      <td>services</td>\n",
       "      <td>married</td>\n",
       "      <td>basic.9y</td>\n",
       "      <td>no</td>\n",
       "      <td>unknown</td>\n",
       "      <td>unknown</td>\n",
       "      <td>telephone</td>\n",
       "      <td>jun</td>\n",
       "      <td>fri</td>\n",
       "      <td>17</td>\n",
       "      <td>3</td>\n",
       "      <td>999</td>\n",
       "      <td>0</td>\n",
       "      <td>nonexistent</td>\n",
       "      <td>1.4</td>\n",
       "      <td>94.465</td>\n",
       "      <td>-41.8</td>\n",
       "      <td>4.959</td>\n",
       "      <td>5228.1</td>\n",
       "      <td>no</td>\n",
       "    </tr>\n",
       "    <tr>\n",
       "      <th>4</th>\n",
       "      <td>47</td>\n",
       "      <td>admin.</td>\n",
       "      <td>married</td>\n",
       "      <td>university.degree</td>\n",
       "      <td>no</td>\n",
       "      <td>yes</td>\n",
       "      <td>no</td>\n",
       "      <td>cellular</td>\n",
       "      <td>nov</td>\n",
       "      <td>mon</td>\n",
       "      <td>58</td>\n",
       "      <td>1</td>\n",
       "      <td>999</td>\n",
       "      <td>0</td>\n",
       "      <td>nonexistent</td>\n",
       "      <td>-0.1</td>\n",
       "      <td>93.200</td>\n",
       "      <td>-42.0</td>\n",
       "      <td>4.191</td>\n",
       "      <td>5195.8</td>\n",
       "      <td>no</td>\n",
       "    </tr>\n",
       "  </tbody>\n",
       "</table>\n",
       "</div>"
      ],
      "text/plain": [
       "   age          job  marital          education default  housing     loan  \\\n",
       "0   30  blue-collar  married           basic.9y      no      yes       no   \n",
       "1   39     services   single        high.school      no       no       no   \n",
       "2   25     services  married        high.school      no      yes       no   \n",
       "3   38     services  married           basic.9y      no  unknown  unknown   \n",
       "4   47       admin.  married  university.degree      no      yes       no   \n",
       "\n",
       "     contact month day_of_week  duration  campaign  pdays  previous  \\\n",
       "0   cellular   may         fri       487         2    999         0   \n",
       "1  telephone   may         fri       346         4    999         0   \n",
       "2  telephone   jun         wed       227         1    999         0   \n",
       "3  telephone   jun         fri        17         3    999         0   \n",
       "4   cellular   nov         mon        58         1    999         0   \n",
       "\n",
       "      poutcome  emp.var.rate  cons.price.idx  cons.conf.idx  euribor3m  \\\n",
       "0  nonexistent          -1.8          92.893          -46.2      1.313   \n",
       "1  nonexistent           1.1          93.994          -36.4      4.855   \n",
       "2  nonexistent           1.4          94.465          -41.8      4.962   \n",
       "3  nonexistent           1.4          94.465          -41.8      4.959   \n",
       "4  nonexistent          -0.1          93.200          -42.0      4.191   \n",
       "\n",
       "   nr.employed   y  \n",
       "0       5099.1  no  \n",
       "1       5191.0  no  \n",
       "2       5228.1  no  \n",
       "3       5228.1  no  \n",
       "4       5195.8  no  "
      ]
     },
     "execution_count": 2,
     "metadata": {},
     "output_type": "execute_result"
    }
   ],
   "source": [
    "Bank=pd.read_csv(\"s3758709_Data.csv\",sep=\";\")\n",
    "Bank.head()"
   ]
  },
  {
   "cell_type": "markdown",
   "metadata": {},
   "source": [
    "The dataset we obtained was already in a good format as per their description text file. They (original) have named all the missing values as \"unknown\" and adviced us(or anyone who uses the dataset) to either to take these \"unknown\" as a class variable or impute or drop them. Since dropping them would result in further decrease of the number of instances, we decided to impute them with mode as all these missing values are present in the categorical features. In terms of outliers, the only straightforward variable to check is the \"age\" variable in which you should have realistic ages and after checking the maximum and the minimum (later in summary statistics also it is shown) deemed there are no outliers for age. "
   ]
  },
  {
   "cell_type": "markdown",
   "metadata": {},
   "source": [
    "Checking the shape of the dataset to see whether everything is imported correctly"
   ]
  },
  {
   "cell_type": "code",
   "execution_count": 3,
   "metadata": {},
   "outputs": [
    {
     "data": {
      "text/plain": [
       "(4119, 21)"
      ]
     },
     "execution_count": 3,
     "metadata": {},
     "output_type": "execute_result"
    }
   ],
   "source": [
    "Bank.shape\n"
   ]
  },
  {
   "cell_type": "markdown",
   "metadata": {},
   "source": [
    "Checking the column names."
   ]
  },
  {
   "cell_type": "code",
   "execution_count": 4,
   "metadata": {},
   "outputs": [
    {
     "data": {
      "text/plain": [
       "Index(['age', 'job', 'marital', 'education', 'default', 'housing', 'loan',\n",
       "       'contact', 'month', 'day_of_week', 'duration', 'campaign', 'pdays',\n",
       "       'previous', 'poutcome', 'emp.var.rate', 'cons.price.idx',\n",
       "       'cons.conf.idx', 'euribor3m', 'nr.employed', 'y'],\n",
       "      dtype='object')"
      ]
     },
     "execution_count": 4,
     "metadata": {},
     "output_type": "execute_result"
    }
   ],
   "source": [
    "Bank.columns"
   ]
  },
  {
   "cell_type": "code",
   "execution_count": 5,
   "metadata": {},
   "outputs": [
    {
     "data": {
      "text/plain": [
       "age                 int64\n",
       "job                object\n",
       "marital            object\n",
       "education          object\n",
       "default            object\n",
       "housing            object\n",
       "loan               object\n",
       "contact            object\n",
       "month              object\n",
       "day_of_week        object\n",
       "duration            int64\n",
       "campaign            int64\n",
       "pdays               int64\n",
       "previous            int64\n",
       "poutcome           object\n",
       "emp.var.rate      float64\n",
       "cons.price.idx    float64\n",
       "cons.conf.idx     float64\n",
       "euribor3m         float64\n",
       "nr.employed       float64\n",
       "y                  object\n",
       "dtype: object"
      ]
     },
     "execution_count": 5,
     "metadata": {},
     "output_type": "execute_result"
    }
   ],
   "source": [
    "#Checking the data types \n",
    "Bank.dtypes"
   ]
  },
  {
   "cell_type": "markdown",
   "metadata": {},
   "source": [
    "The duration column has to be dropped as this shows the call duration of the bank and customer and has no effect to the target column. This was instructed in the dataset description provided with the dataset. "
   ]
  },
  {
   "cell_type": "code",
   "execution_count": 6,
   "metadata": {},
   "outputs": [
    {
     "data": {
      "text/plain": [
       "(4119, 20)"
      ]
     },
     "execution_count": 6,
     "metadata": {},
     "output_type": "execute_result"
    }
   ],
   "source": [
    "Bank_df=Bank.drop(columns='duration')\n",
    "Bank_df.shape"
   ]
  },
  {
   "cell_type": "markdown",
   "metadata": {},
   "source": [
    "Checking for missing values just in case even though the source stated that all missing values are replaced with \"unknown\"."
   ]
  },
  {
   "cell_type": "code",
   "execution_count": 7,
   "metadata": {},
   "outputs": [
    {
     "data": {
      "text/plain": [
       "age               0\n",
       "job               0\n",
       "marital           0\n",
       "education         0\n",
       "default           0\n",
       "housing           0\n",
       "loan              0\n",
       "contact           0\n",
       "month             0\n",
       "day_of_week       0\n",
       "campaign          0\n",
       "pdays             0\n",
       "previous          0\n",
       "poutcome          0\n",
       "emp.var.rate      0\n",
       "cons.price.idx    0\n",
       "cons.conf.idx     0\n",
       "euribor3m         0\n",
       "nr.employed       0\n",
       "y                 0\n",
       "dtype: int64"
      ]
     },
     "execution_count": 7,
     "metadata": {},
     "output_type": "execute_result"
    }
   ],
   "source": [
    "Bank_df.isna().sum()"
   ]
  },
  {
   "cell_type": "markdown",
   "metadata": {},
   "source": [
    "Getting the value counts of the categorical variables to find potential data entry errors. (Ex: \"Married\" or \"married\" essential means the same thing)"
   ]
  },
  {
   "cell_type": "code",
   "execution_count": 8,
   "metadata": {},
   "outputs": [
    {
     "data": {
      "text/plain": [
       "married     2509\n",
       "single      1153\n",
       "divorced     446\n",
       "unknown       11\n",
       "Name: marital, dtype: int64"
      ]
     },
     "execution_count": 8,
     "metadata": {},
     "output_type": "execute_result"
    }
   ],
   "source": [
    "Bank_df['marital'].value_counts()"
   ]
  },
  {
   "cell_type": "code",
   "execution_count": 9,
   "metadata": {},
   "outputs": [
    {
     "data": {
      "text/plain": [
       "admin.           1012\n",
       "blue-collar       884\n",
       "technician        691\n",
       "services          393\n",
       "management        324\n",
       "retired           166\n",
       "self-employed     159\n",
       "entrepreneur      148\n",
       "unemployed        111\n",
       "housemaid         110\n",
       "student            82\n",
       "unknown            39\n",
       "Name: job, dtype: int64"
      ]
     },
     "execution_count": 9,
     "metadata": {},
     "output_type": "execute_result"
    }
   ],
   "source": [
    "Bank_df['job'].value_counts()"
   ]
  },
  {
   "cell_type": "code",
   "execution_count": 10,
   "metadata": {},
   "outputs": [
    {
     "data": {
      "text/plain": [
       "university.degree      1264\n",
       "high.school             921\n",
       "basic.9y                574\n",
       "professional.course     535\n",
       "basic.4y                429\n",
       "basic.6y                228\n",
       "unknown                 167\n",
       "illiterate                1\n",
       "Name: education, dtype: int64"
      ]
     },
     "execution_count": 10,
     "metadata": {},
     "output_type": "execute_result"
    }
   ],
   "source": [
    "Bank_df['education'].value_counts()"
   ]
  },
  {
   "cell_type": "code",
   "execution_count": 11,
   "metadata": {},
   "outputs": [
    {
     "data": {
      "text/plain": [
       "no         3315\n",
       "unknown     803\n",
       "yes           1\n",
       "Name: default, dtype: int64"
      ]
     },
     "execution_count": 11,
     "metadata": {},
     "output_type": "execute_result"
    }
   ],
   "source": [
    "Bank_df['default'].value_counts()"
   ]
  },
  {
   "cell_type": "code",
   "execution_count": 12,
   "metadata": {},
   "outputs": [
    {
     "data": {
      "text/plain": [
       "yes        2175\n",
       "no         1839\n",
       "unknown     105\n",
       "Name: housing, dtype: int64"
      ]
     },
     "execution_count": 12,
     "metadata": {},
     "output_type": "execute_result"
    }
   ],
   "source": [
    "Bank_df['housing'].value_counts()"
   ]
  },
  {
   "cell_type": "code",
   "execution_count": 13,
   "metadata": {},
   "outputs": [
    {
     "data": {
      "text/plain": [
       "no         3349\n",
       "yes         665\n",
       "unknown     105\n",
       "Name: loan, dtype: int64"
      ]
     },
     "execution_count": 13,
     "metadata": {},
     "output_type": "execute_result"
    }
   ],
   "source": [
    "Bank_df['loan'].value_counts()"
   ]
  },
  {
   "cell_type": "code",
   "execution_count": 14,
   "metadata": {},
   "outputs": [
    {
     "data": {
      "text/plain": [
       "may    1378\n",
       "jul     711\n",
       "aug     636\n",
       "jun     530\n",
       "nov     446\n",
       "apr     215\n",
       "oct      69\n",
       "sep      64\n",
       "mar      48\n",
       "dec      22\n",
       "Name: month, dtype: int64"
      ]
     },
     "execution_count": 14,
     "metadata": {},
     "output_type": "execute_result"
    }
   ],
   "source": [
    "Bank_df['month'].value_counts()"
   ]
  },
  {
   "cell_type": "code",
   "execution_count": 15,
   "metadata": {},
   "outputs": [
    {
     "data": {
      "text/plain": [
       "cellular     2652\n",
       "telephone    1467\n",
       "Name: contact, dtype: int64"
      ]
     },
     "execution_count": 15,
     "metadata": {},
     "output_type": "execute_result"
    }
   ],
   "source": [
    "Bank_df['contact'].value_counts()"
   ]
  },
  {
   "cell_type": "code",
   "execution_count": 16,
   "metadata": {},
   "outputs": [
    {
     "data": {
      "text/plain": [
       "thu    860\n",
       "mon    855\n",
       "tue    841\n",
       "wed    795\n",
       "fri    768\n",
       "Name: day_of_week, dtype: int64"
      ]
     },
     "execution_count": 16,
     "metadata": {},
     "output_type": "execute_result"
    }
   ],
   "source": [
    "Bank_df['day_of_week'].value_counts()"
   ]
  },
  {
   "cell_type": "code",
   "execution_count": 17,
   "metadata": {},
   "outputs": [
    {
     "data": {
      "text/plain": [
       "nonexistent    3523\n",
       "failure         454\n",
       "success         142\n",
       "Name: poutcome, dtype: int64"
      ]
     },
     "execution_count": 17,
     "metadata": {},
     "output_type": "execute_result"
    }
   ],
   "source": [
    "Bank_df['poutcome'].value_counts()"
   ]
  },
  {
   "cell_type": "code",
   "execution_count": 18,
   "metadata": {},
   "outputs": [
    {
     "data": {
      "text/plain": [
       "no     3668\n",
       "yes     451\n",
       "Name: y, dtype: int64"
      ]
     },
     "execution_count": 18,
     "metadata": {},
     "output_type": "execute_result"
    }
   ],
   "source": [
    "Bank_df['y'].value_counts()"
   ]
  },
  {
   "cell_type": "markdown",
   "metadata": {},
   "source": [
    "Imputing unknown with mode for Categorical variables"
   ]
  },
  {
   "cell_type": "code",
   "execution_count": 19,
   "metadata": {},
   "outputs": [
    {
     "data": {
      "text/plain": [
       "admin.           1051\n",
       "blue-collar       884\n",
       "technician        691\n",
       "services          393\n",
       "management        324\n",
       "retired           166\n",
       "self-employed     159\n",
       "entrepreneur      148\n",
       "unemployed        111\n",
       "housemaid         110\n",
       "student            82\n",
       "Name: job, dtype: int64"
      ]
     },
     "execution_count": 19,
     "metadata": {},
     "output_type": "execute_result"
    }
   ],
   "source": [
    "Bank_df['job'].replace('unknown','admin.',inplace=True)\n",
    "Bank_df['job'].value_counts()"
   ]
  },
  {
   "cell_type": "code",
   "execution_count": 20,
   "metadata": {},
   "outputs": [
    {
     "data": {
      "text/plain": [
       "married     2520\n",
       "single      1153\n",
       "divorced     446\n",
       "Name: marital, dtype: int64"
      ]
     },
     "execution_count": 20,
     "metadata": {},
     "output_type": "execute_result"
    }
   ],
   "source": [
    "Bank_df['marital'].replace('unknown','married',inplace=True)\n",
    "Bank_df['marital'].value_counts()"
   ]
  },
  {
   "cell_type": "code",
   "execution_count": 21,
   "metadata": {},
   "outputs": [
    {
     "data": {
      "text/plain": [
       "university.degree      1431\n",
       "high.school             921\n",
       "basic.9y                574\n",
       "professional.course     535\n",
       "basic.4y                429\n",
       "basic.6y                228\n",
       "illiterate                1\n",
       "Name: education, dtype: int64"
      ]
     },
     "execution_count": 21,
     "metadata": {},
     "output_type": "execute_result"
    }
   ],
   "source": [
    "Bank_df['education'].replace('unknown','university.degree',inplace=True)\n",
    "Bank_df['education'].value_counts()"
   ]
  },
  {
   "cell_type": "code",
   "execution_count": 22,
   "metadata": {},
   "outputs": [
    {
     "data": {
      "text/plain": [
       "no     4118\n",
       "yes       1\n",
       "Name: default, dtype: int64"
      ]
     },
     "execution_count": 22,
     "metadata": {},
     "output_type": "execute_result"
    }
   ],
   "source": [
    "Bank_df['default'].replace('unknown','no',inplace=True)\n",
    "Bank_df['default'].value_counts()"
   ]
  },
  {
   "cell_type": "code",
   "execution_count": 23,
   "metadata": {},
   "outputs": [
    {
     "data": {
      "text/plain": [
       "yes    2280\n",
       "no     1839\n",
       "Name: housing, dtype: int64"
      ]
     },
     "execution_count": 23,
     "metadata": {},
     "output_type": "execute_result"
    }
   ],
   "source": [
    "Bank_df['housing'].replace('unknown','yes',inplace=True)\n",
    "Bank_df['housing'].value_counts()"
   ]
  },
  {
   "cell_type": "code",
   "execution_count": 24,
   "metadata": {},
   "outputs": [
    {
     "data": {
      "text/plain": [
       "no     3454\n",
       "yes     665\n",
       "Name: loan, dtype: int64"
      ]
     },
     "execution_count": 24,
     "metadata": {},
     "output_type": "execute_result"
    }
   ],
   "source": [
    "Bank_df['loan'].replace('unknown','no',inplace=True)\n",
    "Bank_df['loan'].value_counts()"
   ]
  },
  {
   "cell_type": "markdown",
   "metadata": {},
   "source": [
    "Dropping the default column as it's almost constant throughout the dataset with only 1 observaion has a different value than the rest. The resulting dataset which contains 19 variables in which variable y is the target and the rest will be used for predictive modeling later. "
   ]
  },
  {
   "cell_type": "code",
   "execution_count": 25,
   "metadata": {},
   "outputs": [
    {
     "data": {
      "text/plain": [
       "(4119, 19)"
      ]
     },
     "execution_count": 25,
     "metadata": {},
     "output_type": "execute_result"
    }
   ],
   "source": [
    "Bank_df=Bank_df.drop(columns='default')\n",
    "Bank_df.shape"
   ]
  },
  {
   "cell_type": "code",
   "execution_count": 26,
   "metadata": {},
   "outputs": [],
   "source": [
    "Bank_df_sub=Bank_df.copy()"
   ]
  },
  {
   "cell_type": "code",
   "execution_count": 27,
   "metadata": {},
   "outputs": [],
   "source": [
    "Bank_df.to_csv('beforeEncode.csv',index=False)"
   ]
  },
  {
   "cell_type": "markdown",
   "metadata": {},
   "source": [
    "# DATA EXPLORATION & VISUALIZATION"
   ]
  },
  {
   "cell_type": "markdown",
   "metadata": {},
   "source": [
    "We will be using the matplotlib and seaborn for visualization and statsmodels and pasy for statistics. "
   ]
  },
  {
   "cell_type": "code",
   "execution_count": 28,
   "metadata": {
    "scrolled": true
   },
   "outputs": [
    {
     "data": {
      "text/html": [
       "<div>\n",
       "<style scoped>\n",
       "    .dataframe tbody tr th:only-of-type {\n",
       "        vertical-align: middle;\n",
       "    }\n",
       "\n",
       "    .dataframe tbody tr th {\n",
       "        vertical-align: top;\n",
       "    }\n",
       "\n",
       "    .dataframe thead th {\n",
       "        text-align: right;\n",
       "    }\n",
       "</style>\n",
       "<table border=\"1\" class=\"dataframe\">\n",
       "  <thead>\n",
       "    <tr style=\"text-align: right;\">\n",
       "      <th></th>\n",
       "      <th>age</th>\n",
       "      <th>job</th>\n",
       "      <th>marital</th>\n",
       "      <th>education</th>\n",
       "      <th>housing</th>\n",
       "      <th>loan</th>\n",
       "      <th>contact</th>\n",
       "      <th>month</th>\n",
       "      <th>day_of_week</th>\n",
       "      <th>campaign</th>\n",
       "      <th>pdays</th>\n",
       "      <th>previous</th>\n",
       "      <th>poutcome</th>\n",
       "      <th>emp.var.rate</th>\n",
       "      <th>cons.price.idx</th>\n",
       "      <th>cons.conf.idx</th>\n",
       "      <th>euribor3m</th>\n",
       "      <th>nr.employed</th>\n",
       "      <th>y</th>\n",
       "    </tr>\n",
       "  </thead>\n",
       "  <tbody>\n",
       "    <tr>\n",
       "      <th>0</th>\n",
       "      <td>30</td>\n",
       "      <td>blue-collar</td>\n",
       "      <td>married</td>\n",
       "      <td>basic.9y</td>\n",
       "      <td>yes</td>\n",
       "      <td>no</td>\n",
       "      <td>cellular</td>\n",
       "      <td>may</td>\n",
       "      <td>fri</td>\n",
       "      <td>2</td>\n",
       "      <td>999</td>\n",
       "      <td>0</td>\n",
       "      <td>nonexistent</td>\n",
       "      <td>-1.8</td>\n",
       "      <td>92.893</td>\n",
       "      <td>-46.2</td>\n",
       "      <td>1.313</td>\n",
       "      <td>5099.1</td>\n",
       "      <td>no</td>\n",
       "    </tr>\n",
       "    <tr>\n",
       "      <th>1</th>\n",
       "      <td>39</td>\n",
       "      <td>services</td>\n",
       "      <td>single</td>\n",
       "      <td>high.school</td>\n",
       "      <td>no</td>\n",
       "      <td>no</td>\n",
       "      <td>telephone</td>\n",
       "      <td>may</td>\n",
       "      <td>fri</td>\n",
       "      <td>4</td>\n",
       "      <td>999</td>\n",
       "      <td>0</td>\n",
       "      <td>nonexistent</td>\n",
       "      <td>1.1</td>\n",
       "      <td>93.994</td>\n",
       "      <td>-36.4</td>\n",
       "      <td>4.855</td>\n",
       "      <td>5191.0</td>\n",
       "      <td>no</td>\n",
       "    </tr>\n",
       "    <tr>\n",
       "      <th>2</th>\n",
       "      <td>25</td>\n",
       "      <td>services</td>\n",
       "      <td>married</td>\n",
       "      <td>high.school</td>\n",
       "      <td>yes</td>\n",
       "      <td>no</td>\n",
       "      <td>telephone</td>\n",
       "      <td>jun</td>\n",
       "      <td>wed</td>\n",
       "      <td>1</td>\n",
       "      <td>999</td>\n",
       "      <td>0</td>\n",
       "      <td>nonexistent</td>\n",
       "      <td>1.4</td>\n",
       "      <td>94.465</td>\n",
       "      <td>-41.8</td>\n",
       "      <td>4.962</td>\n",
       "      <td>5228.1</td>\n",
       "      <td>no</td>\n",
       "    </tr>\n",
       "    <tr>\n",
       "      <th>3</th>\n",
       "      <td>38</td>\n",
       "      <td>services</td>\n",
       "      <td>married</td>\n",
       "      <td>basic.9y</td>\n",
       "      <td>yes</td>\n",
       "      <td>no</td>\n",
       "      <td>telephone</td>\n",
       "      <td>jun</td>\n",
       "      <td>fri</td>\n",
       "      <td>3</td>\n",
       "      <td>999</td>\n",
       "      <td>0</td>\n",
       "      <td>nonexistent</td>\n",
       "      <td>1.4</td>\n",
       "      <td>94.465</td>\n",
       "      <td>-41.8</td>\n",
       "      <td>4.959</td>\n",
       "      <td>5228.1</td>\n",
       "      <td>no</td>\n",
       "    </tr>\n",
       "    <tr>\n",
       "      <th>4</th>\n",
       "      <td>47</td>\n",
       "      <td>admin.</td>\n",
       "      <td>married</td>\n",
       "      <td>university.degree</td>\n",
       "      <td>yes</td>\n",
       "      <td>no</td>\n",
       "      <td>cellular</td>\n",
       "      <td>nov</td>\n",
       "      <td>mon</td>\n",
       "      <td>1</td>\n",
       "      <td>999</td>\n",
       "      <td>0</td>\n",
       "      <td>nonexistent</td>\n",
       "      <td>-0.1</td>\n",
       "      <td>93.200</td>\n",
       "      <td>-42.0</td>\n",
       "      <td>4.191</td>\n",
       "      <td>5195.8</td>\n",
       "      <td>no</td>\n",
       "    </tr>\n",
       "  </tbody>\n",
       "</table>\n",
       "</div>"
      ],
      "text/plain": [
       "   age          job  marital          education housing loan    contact month  \\\n",
       "0   30  blue-collar  married           basic.9y     yes   no   cellular   may   \n",
       "1   39     services   single        high.school      no   no  telephone   may   \n",
       "2   25     services  married        high.school     yes   no  telephone   jun   \n",
       "3   38     services  married           basic.9y     yes   no  telephone   jun   \n",
       "4   47       admin.  married  university.degree     yes   no   cellular   nov   \n",
       "\n",
       "  day_of_week  campaign  pdays  previous     poutcome  emp.var.rate  \\\n",
       "0         fri         2    999         0  nonexistent          -1.8   \n",
       "1         fri         4    999         0  nonexistent           1.1   \n",
       "2         wed         1    999         0  nonexistent           1.4   \n",
       "3         fri         3    999         0  nonexistent           1.4   \n",
       "4         mon         1    999         0  nonexistent          -0.1   \n",
       "\n",
       "   cons.price.idx  cons.conf.idx  euribor3m  nr.employed   y  \n",
       "0          92.893          -46.2      1.313       5099.1  no  \n",
       "1          93.994          -36.4      4.855       5191.0  no  \n",
       "2          94.465          -41.8      4.962       5228.1  no  \n",
       "3          94.465          -41.8      4.959       5228.1  no  \n",
       "4          93.200          -42.0      4.191       5195.8  no  "
      ]
     },
     "execution_count": 28,
     "metadata": {},
     "output_type": "execute_result"
    }
   ],
   "source": [
    "import matplotlib.pyplot as plt\n",
    "import seaborn as sns\n",
    "import statsmodels.api as sm\n",
    "import statsmodels.formula.api as smf\n",
    "import patsy\n",
    "%matplotlib inline \n",
    "%config InlineBackend.figure_format = 'retina'\n",
    "plt.style.use(\"ggplot\")\n",
    "df=Bank_df.copy()\n",
    "df.head()"
   ]
  },
  {
   "cell_type": "markdown",
   "metadata": {},
   "source": [
    "## SUMMARY STATISTICS"
   ]
  },
  {
   "cell_type": "markdown",
   "metadata": {},
   "source": [
    "In this section we will take a first glance at the descriptive features of the dataset by their summary statistics. "
   ]
  },
  {
   "cell_type": "code",
   "execution_count": 29,
   "metadata": {},
   "outputs": [
    {
     "data": {
      "text/html": [
       "<b>Table 1: Summary of continuous features of Type Integer</b>"
      ],
      "text/plain": [
       "<IPython.core.display.HTML object>"
      ]
     },
     "metadata": {},
     "output_type": "display_data"
    },
    {
     "data": {
      "text/html": [
       "<div>\n",
       "<style scoped>\n",
       "    .dataframe tbody tr th:only-of-type {\n",
       "        vertical-align: middle;\n",
       "    }\n",
       "\n",
       "    .dataframe tbody tr th {\n",
       "        vertical-align: top;\n",
       "    }\n",
       "\n",
       "    .dataframe thead th {\n",
       "        text-align: right;\n",
       "    }\n",
       "</style>\n",
       "<table border=\"1\" class=\"dataframe\">\n",
       "  <thead>\n",
       "    <tr style=\"text-align: right;\">\n",
       "      <th></th>\n",
       "      <th>age</th>\n",
       "      <th>campaign</th>\n",
       "      <th>pdays</th>\n",
       "      <th>previous</th>\n",
       "    </tr>\n",
       "  </thead>\n",
       "  <tbody>\n",
       "    <tr>\n",
       "      <th>count</th>\n",
       "      <td>4119.000000</td>\n",
       "      <td>4119.000000</td>\n",
       "      <td>4119.000000</td>\n",
       "      <td>4119.000000</td>\n",
       "    </tr>\n",
       "    <tr>\n",
       "      <th>mean</th>\n",
       "      <td>40.113620</td>\n",
       "      <td>2.537266</td>\n",
       "      <td>960.422190</td>\n",
       "      <td>0.190337</td>\n",
       "    </tr>\n",
       "    <tr>\n",
       "      <th>std</th>\n",
       "      <td>10.313362</td>\n",
       "      <td>2.568159</td>\n",
       "      <td>191.922786</td>\n",
       "      <td>0.541788</td>\n",
       "    </tr>\n",
       "    <tr>\n",
       "      <th>min</th>\n",
       "      <td>18.000000</td>\n",
       "      <td>1.000000</td>\n",
       "      <td>0.000000</td>\n",
       "      <td>0.000000</td>\n",
       "    </tr>\n",
       "    <tr>\n",
       "      <th>25%</th>\n",
       "      <td>32.000000</td>\n",
       "      <td>1.000000</td>\n",
       "      <td>999.000000</td>\n",
       "      <td>0.000000</td>\n",
       "    </tr>\n",
       "    <tr>\n",
       "      <th>50%</th>\n",
       "      <td>38.000000</td>\n",
       "      <td>2.000000</td>\n",
       "      <td>999.000000</td>\n",
       "      <td>0.000000</td>\n",
       "    </tr>\n",
       "    <tr>\n",
       "      <th>75%</th>\n",
       "      <td>47.000000</td>\n",
       "      <td>3.000000</td>\n",
       "      <td>999.000000</td>\n",
       "      <td>0.000000</td>\n",
       "    </tr>\n",
       "    <tr>\n",
       "      <th>max</th>\n",
       "      <td>88.000000</td>\n",
       "      <td>35.000000</td>\n",
       "      <td>999.000000</td>\n",
       "      <td>6.000000</td>\n",
       "    </tr>\n",
       "  </tbody>\n",
       "</table>\n",
       "</div>"
      ],
      "text/plain": [
       "               age     campaign        pdays     previous\n",
       "count  4119.000000  4119.000000  4119.000000  4119.000000\n",
       "mean     40.113620     2.537266   960.422190     0.190337\n",
       "std      10.313362     2.568159   191.922786     0.541788\n",
       "min      18.000000     1.000000     0.000000     0.000000\n",
       "25%      32.000000     1.000000   999.000000     0.000000\n",
       "50%      38.000000     2.000000   999.000000     0.000000\n",
       "75%      47.000000     3.000000   999.000000     0.000000\n",
       "max      88.000000    35.000000   999.000000     6.000000"
      ]
     },
     "execution_count": 29,
     "metadata": {},
     "output_type": "execute_result"
    }
   ],
   "source": [
    "from IPython.display import display, HTML\n",
    "display(HTML('<b>Table 1: Summary of continuous features of Type Integer</b>'))\n",
    "df.describe(include='int64')"
   ]
  },
  {
   "cell_type": "code",
   "execution_count": 30,
   "metadata": {},
   "outputs": [
    {
     "data": {
      "text/html": [
       "<b>Table 2: Summary of continuous features of Type Float</b>"
      ],
      "text/plain": [
       "<IPython.core.display.HTML object>"
      ]
     },
     "metadata": {},
     "output_type": "display_data"
    },
    {
     "data": {
      "text/html": [
       "<div>\n",
       "<style scoped>\n",
       "    .dataframe tbody tr th:only-of-type {\n",
       "        vertical-align: middle;\n",
       "    }\n",
       "\n",
       "    .dataframe tbody tr th {\n",
       "        vertical-align: top;\n",
       "    }\n",
       "\n",
       "    .dataframe thead th {\n",
       "        text-align: right;\n",
       "    }\n",
       "</style>\n",
       "<table border=\"1\" class=\"dataframe\">\n",
       "  <thead>\n",
       "    <tr style=\"text-align: right;\">\n",
       "      <th></th>\n",
       "      <th>emp.var.rate</th>\n",
       "      <th>cons.price.idx</th>\n",
       "      <th>cons.conf.idx</th>\n",
       "      <th>euribor3m</th>\n",
       "      <th>nr.employed</th>\n",
       "    </tr>\n",
       "  </thead>\n",
       "  <tbody>\n",
       "    <tr>\n",
       "      <th>count</th>\n",
       "      <td>4119.000000</td>\n",
       "      <td>4119.000000</td>\n",
       "      <td>4119.000000</td>\n",
       "      <td>4119.000000</td>\n",
       "      <td>4119.000000</td>\n",
       "    </tr>\n",
       "    <tr>\n",
       "      <th>mean</th>\n",
       "      <td>0.084972</td>\n",
       "      <td>93.579704</td>\n",
       "      <td>-40.499102</td>\n",
       "      <td>3.621356</td>\n",
       "      <td>5166.481695</td>\n",
       "    </tr>\n",
       "    <tr>\n",
       "      <th>std</th>\n",
       "      <td>1.563114</td>\n",
       "      <td>0.579349</td>\n",
       "      <td>4.594578</td>\n",
       "      <td>1.733591</td>\n",
       "      <td>73.667904</td>\n",
       "    </tr>\n",
       "    <tr>\n",
       "      <th>min</th>\n",
       "      <td>-3.400000</td>\n",
       "      <td>92.201000</td>\n",
       "      <td>-50.800000</td>\n",
       "      <td>0.635000</td>\n",
       "      <td>4963.600000</td>\n",
       "    </tr>\n",
       "    <tr>\n",
       "      <th>25%</th>\n",
       "      <td>-1.800000</td>\n",
       "      <td>93.075000</td>\n",
       "      <td>-42.700000</td>\n",
       "      <td>1.334000</td>\n",
       "      <td>5099.100000</td>\n",
       "    </tr>\n",
       "    <tr>\n",
       "      <th>50%</th>\n",
       "      <td>1.100000</td>\n",
       "      <td>93.749000</td>\n",
       "      <td>-41.800000</td>\n",
       "      <td>4.857000</td>\n",
       "      <td>5191.000000</td>\n",
       "    </tr>\n",
       "    <tr>\n",
       "      <th>75%</th>\n",
       "      <td>1.400000</td>\n",
       "      <td>93.994000</td>\n",
       "      <td>-36.400000</td>\n",
       "      <td>4.961000</td>\n",
       "      <td>5228.100000</td>\n",
       "    </tr>\n",
       "    <tr>\n",
       "      <th>max</th>\n",
       "      <td>1.400000</td>\n",
       "      <td>94.767000</td>\n",
       "      <td>-26.900000</td>\n",
       "      <td>5.045000</td>\n",
       "      <td>5228.100000</td>\n",
       "    </tr>\n",
       "  </tbody>\n",
       "</table>\n",
       "</div>"
      ],
      "text/plain": [
       "       emp.var.rate  cons.price.idx  cons.conf.idx    euribor3m  nr.employed\n",
       "count   4119.000000     4119.000000    4119.000000  4119.000000  4119.000000\n",
       "mean       0.084972       93.579704     -40.499102     3.621356  5166.481695\n",
       "std        1.563114        0.579349       4.594578     1.733591    73.667904\n",
       "min       -3.400000       92.201000     -50.800000     0.635000  4963.600000\n",
       "25%       -1.800000       93.075000     -42.700000     1.334000  5099.100000\n",
       "50%        1.100000       93.749000     -41.800000     4.857000  5191.000000\n",
       "75%        1.400000       93.994000     -36.400000     4.961000  5228.100000\n",
       "max        1.400000       94.767000     -26.900000     5.045000  5228.100000"
      ]
     },
     "execution_count": 30,
     "metadata": {},
     "output_type": "execute_result"
    }
   ],
   "source": [
    "from IPython.display import display, HTML\n",
    "display(HTML('<b>Table 2: Summary of continuous features of Type Float</b>'))\n",
    "df.describe(include='float64')"
   ]
  },
  {
   "cell_type": "code",
   "execution_count": 31,
   "metadata": {},
   "outputs": [
    {
     "data": {
      "text/html": [
       "<b>Table 3: Summary of categorical features</b>"
      ],
      "text/plain": [
       "<IPython.core.display.HTML object>"
      ]
     },
     "metadata": {},
     "output_type": "display_data"
    },
    {
     "data": {
      "text/html": [
       "<div>\n",
       "<style scoped>\n",
       "    .dataframe tbody tr th:only-of-type {\n",
       "        vertical-align: middle;\n",
       "    }\n",
       "\n",
       "    .dataframe tbody tr th {\n",
       "        vertical-align: top;\n",
       "    }\n",
       "\n",
       "    .dataframe thead th {\n",
       "        text-align: right;\n",
       "    }\n",
       "</style>\n",
       "<table border=\"1\" class=\"dataframe\">\n",
       "  <thead>\n",
       "    <tr style=\"text-align: right;\">\n",
       "      <th></th>\n",
       "      <th>job</th>\n",
       "      <th>marital</th>\n",
       "      <th>education</th>\n",
       "      <th>housing</th>\n",
       "      <th>loan</th>\n",
       "      <th>contact</th>\n",
       "      <th>month</th>\n",
       "      <th>day_of_week</th>\n",
       "      <th>poutcome</th>\n",
       "      <th>y</th>\n",
       "    </tr>\n",
       "  </thead>\n",
       "  <tbody>\n",
       "    <tr>\n",
       "      <th>count</th>\n",
       "      <td>4119</td>\n",
       "      <td>4119</td>\n",
       "      <td>4119</td>\n",
       "      <td>4119</td>\n",
       "      <td>4119</td>\n",
       "      <td>4119</td>\n",
       "      <td>4119</td>\n",
       "      <td>4119</td>\n",
       "      <td>4119</td>\n",
       "      <td>4119</td>\n",
       "    </tr>\n",
       "    <tr>\n",
       "      <th>unique</th>\n",
       "      <td>11</td>\n",
       "      <td>3</td>\n",
       "      <td>7</td>\n",
       "      <td>2</td>\n",
       "      <td>2</td>\n",
       "      <td>2</td>\n",
       "      <td>10</td>\n",
       "      <td>5</td>\n",
       "      <td>3</td>\n",
       "      <td>2</td>\n",
       "    </tr>\n",
       "    <tr>\n",
       "      <th>top</th>\n",
       "      <td>admin.</td>\n",
       "      <td>married</td>\n",
       "      <td>university.degree</td>\n",
       "      <td>yes</td>\n",
       "      <td>no</td>\n",
       "      <td>cellular</td>\n",
       "      <td>may</td>\n",
       "      <td>thu</td>\n",
       "      <td>nonexistent</td>\n",
       "      <td>no</td>\n",
       "    </tr>\n",
       "    <tr>\n",
       "      <th>freq</th>\n",
       "      <td>1051</td>\n",
       "      <td>2520</td>\n",
       "      <td>1431</td>\n",
       "      <td>2280</td>\n",
       "      <td>3454</td>\n",
       "      <td>2652</td>\n",
       "      <td>1378</td>\n",
       "      <td>860</td>\n",
       "      <td>3523</td>\n",
       "      <td>3668</td>\n",
       "    </tr>\n",
       "  </tbody>\n",
       "</table>\n",
       "</div>"
      ],
      "text/plain": [
       "           job  marital          education housing  loan   contact month  \\\n",
       "count     4119     4119               4119    4119  4119      4119  4119   \n",
       "unique      11        3                  7       2     2         2    10   \n",
       "top     admin.  married  university.degree     yes    no  cellular   may   \n",
       "freq      1051     2520               1431    2280  3454      2652  1378   \n",
       "\n",
       "       day_of_week     poutcome     y  \n",
       "count         4119         4119  4119  \n",
       "unique           5            3     2  \n",
       "top            thu  nonexistent    no  \n",
       "freq           860         3523  3668  "
      ]
     },
     "execution_count": 31,
     "metadata": {},
     "output_type": "execute_result"
    }
   ],
   "source": [
    "display(HTML('<b>Table 3: Summary of categorical features</b>'))\n",
    "df.describe(include='object')"
   ]
  },
  {
   "cell_type": "markdown",
   "metadata": {},
   "source": [
    "## DATA VISUALIZATION"
   ]
  },
  {
   "cell_type": "markdown",
   "metadata": {},
   "source": [
    "In this section we use different visualization techniques such as boxplots, scatterplots, bar plots and histograms to visualize and explore the dataset. This section is subdivided to 3 parts focusing on Single variable, Dual Variable and Tri-variable plots. "
   ]
  },
  {
   "cell_type": "markdown",
   "metadata": {},
   "source": [
    "### UNIVARIATE VISUALIZATION"
   ]
  },
  {
   "cell_type": "markdown",
   "metadata": {},
   "source": [
    "**Barplot for Marital status**"
   ]
  },
  {
   "cell_type": "code",
   "execution_count": 32,
   "metadata": {},
   "outputs": [
    {
     "data": {
      "image/png": "[encoded data removed]",
      "text/plain": [
       "<Figure size 432x288 with 1 Axes>"
      ]
     },
     "metadata": {
      "image/png": {
       "height": 298,
       "width": 425
      },
      "needs_background": "light"
     },
     "output_type": "display_data"
    }
   ],
   "source": [
    "ax = df['marital'].value_counts().plot(kind = 'bar')\n",
    "ax.set_xticklabels(ax.get_xticklabels(), rotation = 90)\n",
    "plt.tight_layout()\n",
    "plt.title('Figure 1: Bar Plot for Marital Status of Customers', fontsize = 15)\n",
    "plt.show();"
   ]
  },
  {
   "cell_type": "markdown",
   "metadata": {},
   "source": [
    "Most of the Customers are married individuals according to the barplot. "
   ]
  },
  {
   "cell_type": "markdown",
   "metadata": {},
   "source": [
    "**Box plot for Consumer Confidence Index**"
   ]
  },
  {
   "cell_type": "code",
   "execution_count": 33,
   "metadata": {},
   "outputs": [
    {
     "data": {
      "image/png": "[encoded data removed]",
      "text/plain": [
       "<Figure size 432x288 with 1 Axes>"
      ]
     },
     "metadata": {
      "image/png": {
       "height": 281,
       "width": 357
      },
      "needs_background": "light"
     },
     "output_type": "display_data"
    }
   ],
   "source": [
    "sns.boxplot(df['cons.conf.idx']).set_title('Figure 2: Box Plot of Consumer Confidence Index', fontsize = 14)\n",
    "plt.show();"
   ]
  },
  {
   "cell_type": "markdown",
   "metadata": {},
   "source": [
    "This continuous variable, the Consumer Confidence Index is a monthly indicator that shows how optimistic or not a customer is depending on how he or she spends or saves money. Different countries have different factors contributing to this factor. In this case it seems that customers are not that optimistic about the economy. From a statistical point of view the Box plot shows highly right skewed data, so best to keep that in mind when we deal with predictive modeling."
   ]
  },
  {
   "cell_type": "markdown",
   "metadata": {},
   "source": [
    "**Bar plot for the Outcome of the Previous Marketing Campaign with the customers.**"
   ]
  },
  {
   "cell_type": "code",
   "execution_count": 34,
   "metadata": {},
   "outputs": [
    {
     "data": {
      "image/png": "[encoded data removed]",
      "text/plain": [
       "<Figure size 432x288 with 1 Axes>"
      ]
     },
     "metadata": {
      "image/png": {
       "height": 296,
       "width": 438
      },
      "needs_background": "light"
     },
     "output_type": "display_data"
    }
   ],
   "source": [
    "ax = df['poutcome'].value_counts().plot(kind = 'bar')\n",
    "ax.set_xticklabels(ax.get_xticklabels(), rotation = 90)\n",
    "plt.tight_layout()\n",
    "plt.title('Figure 3: Bar Plot for Outcome of the Previous Marketing Campaign', fontsize = 12)\n",
    "plt.show();"
   ]
  },
  {
   "cell_type": "markdown",
   "metadata": {},
   "source": [
    "The plot clearly shows that most of the customers did not experience a previous marketing campaign. However Sucesses are quite low when compared to the failures from the people who have experienced a campaign before. This gives us some sort of idea as to maybe the Bank should try different approaches in terms of holding marketing campaigns in future. "
   ]
  },
  {
   "cell_type": "markdown",
   "metadata": {},
   "source": [
    "**Histogram with Kernel Density Estimate for Age**"
   ]
  },
  {
   "cell_type": "code",
   "execution_count": 35,
   "metadata": {},
   "outputs": [
    {
     "data": {
      "image/png": "[encoded data removed]",
      "text/plain": [
       "<Figure size 432x288 with 1 Axes>"
      ]
     },
     "metadata": {
      "image/png": {
       "height": 281,
       "width": 378
      },
      "needs_background": "light"
     },
     "output_type": "display_data"
    }
   ],
   "source": [
    "# get a histogram of age with kernel density estimate\n",
    "sns.distplot(df['age'], kde = True).set_title('Figure 4: Histogram of Campaign Contacts', fontsize = 14)\n",
    "plt.show();"
   ]
  },
  {
   "cell_type": "markdown",
   "metadata": {},
   "source": [
    "\n",
    "The plot shows us that the Age variable is a little right skewed. Most of the customers or clients are in middle ages. So when the Bank do their next Marketing Campaign if they approach it in a suitable way that would attract the middle aged customers that might give them a positive outcome. "
   ]
  },
  {
   "cell_type": "markdown",
   "metadata": {},
   "source": [
    "### TWO VARIABLE VISUALIZATION"
   ]
  },
  {
   "cell_type": "markdown",
   "metadata": {},
   "source": [
    "**Scatterplot for Consumer Price Index and Age**"
   ]
  },
  {
   "cell_type": "code",
   "execution_count": 36,
   "metadata": {},
   "outputs": [
    {
     "data": {
      "image/png": "[encoded data removed]",
      "text/plain": [
       "<Figure size 432x288 with 1 Axes>"
      ]
     },
     "metadata": {
      "image/png": {
       "height": 280,
       "width": 415
      },
      "needs_background": "light"
     },
     "output_type": "display_data"
    }
   ],
   "source": [
    "cons = df['cons.conf.idx']\n",
    "\n",
    "# get a scatter plot\n",
    "plt.scatter(cons, df['age'], alpha = 0.3)\n",
    "plt.title('Figure 5: Scatterplot of Consumer Confidence Index and age', fontsize = 13)\n",
    "plt.xlabel('Consumer Confidence Index')\n",
    "plt.ylabel('age')\n",
    "plt.show();"
   ]
  },
  {
   "cell_type": "markdown",
   "metadata": {},
   "source": [
    "There seems to be no correlation or relationship between the two continuous variables, consumer confidence index and Age of customers. "
   ]
  },
  {
   "cell_type": "markdown",
   "metadata": {},
   "source": [
    "**Boxplot for Age by Marital Status**"
   ]
  },
  {
   "cell_type": "code",
   "execution_count": 37,
   "metadata": {},
   "outputs": [
    {
     "data": {
      "image/png": "[encoded data removed]",
      "text/plain": [
       "<Figure size 432x288 with 1 Axes>"
      ]
     },
     "metadata": {
      "image/png": {
       "height": 281,
       "width": 385
      },
      "needs_background": "light"
     },
     "output_type": "display_data"
    }
   ],
   "source": [
    "sns.boxplot(df['marital'], df['age'],palette=\"Set2\");\n",
    "plt.title('Figure 6: Boxplot of Age by Marital Status', fontsize = 15)\n",
    "plt.show();"
   ]
  },
  {
   "cell_type": "markdown",
   "metadata": {},
   "source": [
    "From the above plot we can see that Single customers are quite younger (concentrated below mid thirties) in general compared to the Married or Divorced customers. Married customers and Divorced customers seems to be in mostly the same age group when comparing with the Singles. "
   ]
  },
  {
   "cell_type": "markdown",
   "metadata": {},
   "source": [
    "**Boxplot for Age and Education**"
   ]
  },
  {
   "cell_type": "code",
   "execution_count": 38,
   "metadata": {},
   "outputs": [
    {
     "data": {
      "image/png": "[encoded data removed]",
      "text/plain": [
       "<Figure size 432x288 with 1 Axes>"
      ]
     },
     "metadata": {
      "image/png": {
       "height": 281,
       "width": 469
      },
      "needs_background": "light"
     },
     "output_type": "display_data"
    }
   ],
   "source": [
    "sns.boxplot(df['age'],df['education'],palette=\"Set3\");\n",
    "plt.title('Figure 7: Boxplot of Age by Education',fontsize = 15)\n",
    "plt.show();"
   ]
  },
  {
   "cell_type": "markdown",
   "metadata": {},
   "source": [
    "We can see that Most of the Education types vs age are similar in distribution except for Illiterate and Basic 4 Year. There is not enough Illiterate customers to plot a box plot, showing that we should expect almost every customer who has some sort of education background. Also a lot of customers who have completed only upto 4th Grade lies between the ages of 40 to 57. "
   ]
  },
  {
   "cell_type": "markdown",
   "metadata": {},
   "source": [
    "### THREE VARIABLE VISUALIZATION"
   ]
  },
  {
   "cell_type": "markdown",
   "metadata": {},
   "source": [
    "**Scatter Plot for Campaign Contacts by Age & the presence of a Housing loan**"
   ]
  },
  {
   "cell_type": "code",
   "execution_count": 39,
   "metadata": {},
   "outputs": [
    {
     "data": {
      "image/png": "[encoded data removed]",
      "text/plain": [
       "<Figure size 432x288 with 1 Axes>"
      ]
     },
     "metadata": {
      "image/png": {
       "height": 279,
       "width": 637
      },
      "needs_background": "light"
     },
     "output_type": "display_data"
    }
   ],
   "source": [
    "sns.scatterplot(df['campaign'], df['age'], hue = df['housing'])\n",
    "plt.title('Figure 8:No. of calls during this campaign by Age coloured by whether they have a housing loan or not.', fontsize = 12);\n",
    "plt.legend(loc = 'upper right')\n",
    "plt.show();"
   ]
  },
  {
   "cell_type": "markdown",
   "metadata": {},
   "source": [
    "There is no pattern whether a client has been contacted regarding this marketing campaign depending on whether they have a housing loan or not or depending on age. From business perspective it seems like a good thing to contact as much clients as possible disregarding their previous loans or mortgages. The scatterplot is more concentrated to the left side of the plot showing that an insane number of contacts/calls haven't been placed with only a few clients have been contacted for over 20 times. "
   ]
  },
  {
   "cell_type": "markdown",
   "metadata": {},
   "source": [
    "**BoxPlot for Age Broken down by Marital Status and Having a Personal Loan**"
   ]
  },
  {
   "cell_type": "code",
   "execution_count": 40,
   "metadata": {},
   "outputs": [
    {
     "data": {
      "image/png": "[encoded data removed]",
      "text/plain": [
       "<Figure size 432x288 with 1 Axes>"
      ]
     },
     "metadata": {
      "image/png": {
       "height": 279,
       "width": 504
      },
      "needs_background": "light"
     },
     "output_type": "display_data"
    }
   ],
   "source": [
    "sns.boxplot(df['marital'], df['age'], \n",
    "            hue = df['loan'],palette='Set2')\n",
    "plt.title('Figure 9: Boxplot of Age broken down by Marital Status and Having a Loan or Not', fontsize = 12)\n",
    "plt.legend(loc = 'upper center')\n",
    "plt.show();"
   ]
  },
  {
   "cell_type": "markdown",
   "metadata": {},
   "source": [
    "Boxplots for Married Customers having a loan or not respective to their Age seems extremely similar except for some outliers presented in the boxplot for Married with No loan. They are slightly right skewed as well. In general it is hard to come to a strong conclusion soley based on the above boxplots. "
   ]
  },
  {
   "cell_type": "markdown",
   "metadata": {},
   "source": [
    "**Scatter Plot for Campaign Contacts by Age & whether the client Subscribed a Term Deposit**"
   ]
  },
  {
   "cell_type": "code",
   "execution_count": 41,
   "metadata": {},
   "outputs": [
    {
     "data": {
      "image/png": "[encoded data removed]",
      "text/plain": [
       "<Figure size 432x288 with 1 Axes>"
      ]
     },
     "metadata": {
      "image/png": {
       "height": 279,
       "width": 582
      },
      "needs_background": "light"
     },
     "output_type": "display_data"
    }
   ],
   "source": [
    "sns.scatterplot(df['campaign'], df['age'], hue = df['y'])\n",
    "plt.title('Figure 10: No. of calls during this campaign by Age coloured by Subscribing to a term deposit.', fontsize = 12);\n",
    "plt.legend(loc = 'upper right')\n",
    "plt.show();"
   ]
  },
  {
   "cell_type": "markdown",
   "metadata": {},
   "source": [
    "It seems like somewhat older people above 60 years of age are the best customers when considering their subscription towards a term deposit. (This is also our target variable in Predictive Modeling). A key fact that we can notice is that the clients who have said yes to a subscription haven't received that many calls before considering to subscribe. On the otherhand even if you contact some customers for more than 20 times they still may not want to subscribe to a term deposit. After all personal choice is also one major factor in cases like this in which we should respect even though we try to predict the outcomes based on data of our clients. "
   ]
  },
  {
   "cell_type": "markdown",
   "metadata": {},
   "source": [
    "# PREDICTIVE MODELING "
   ]
  },
  {
   "cell_type": "markdown",
   "metadata": {},
   "source": [
    "## OVERVIEW OF METHODOLOGY"
   ]
  },
  {
   "cell_type": "markdown",
   "metadata": {},
   "source": [
    "Our Predictive Modeling goal is a **Binary Classification** problem. Therefore we have decided to try out 4 different classifiers that are commonly used for Binary Classification as follows. \n",
    "- K Nearest Neighbours (KNN) \n",
    "- Decision Tree (DT) \n",
    "- Naive Bayes (NB) \n",
    "- Random Forest (RF) \n",
    "\n",
    "We start by pre processing our dataset to a format that is suitable for fitting models. Most of the basic pre processing tasks such as handling missing values, sanity checks, dropping unnecessary columns were done at the very begining for the purpose of exploration. Apart from that, we did additional pre processing, focused mainly on Machine Learning such as Discretizing the numeric **age** feature, Integer encoding ordinal descriptive features **age** and **education**. Then making two datasets Bank_df_target and Bank_df_data for the target and the other features. Then we go ahead with one-hot-encoding the nominal variables that are in the Bank_df_data. After this, we result in 45 features. <br> \n",
    "\n",
    "For feature selection we use Random Forest Importance method(RFI). Initally, we use 30 features in the RFI for understanding purposes. Later we incoperate the RFI to Pipelines for efficient presentation. We split the dataset to train and test using stratification strategy with 70:30 ratio which resulted in  2883 instances for train set and 1236 for test. We use this training set in our hyperparameter tuning process. As mentioned earlier pipelines are used for easier handling of the problem and therefore we incoperate the RFI to the pipeline along with hyperparameter searches. Stratified cross validation is used as our data are highly imbalanced. We fine tune the hyperparameters based of the Area Under the ROC Curve (AUC). Parrellel processing is also done using -2 cores. Classifiers with the adequate hyperparameters are found using Gridsearch for KNN, DT and RF while a randomized search was done for NB. (Due to time limitation issue) Next we fit the test data to our models using Stratified 10 fold cross validation. \n",
    "\n",
    "Finally we compare the different classifiers using paired t-tests to identify a statistical significant difference is there between the performance of classifiers. We take the full classification report to understand the performances more.\n",
    "\n"
   ]
  },
  {
   "cell_type": "markdown",
   "metadata": {},
   "source": [
    "### DATA PRE PROCESSING CONTINUED (FOCUSED FOR ML)"
   ]
  },
  {
   "cell_type": "markdown",
   "metadata": {},
   "source": [
    "Discretizing Numeric Features - age"
   ]
  },
  {
   "cell_type": "code",
   "execution_count": 42,
   "metadata": {},
   "outputs": [],
   "source": [
    "Bank_df_sub['age'] = pd.qcut(Bank_df_sub['age'], q=3, \n",
    "                                     labels=['young', 'middle', 'old'])"
   ]
  },
  {
   "cell_type": "code",
   "execution_count": 43,
   "metadata": {},
   "outputs": [
    {
     "data": {
      "text/plain": [
       "young     1479\n",
       "middle    1327\n",
       "old       1313\n",
       "Name: age, dtype: int64"
      ]
     },
     "execution_count": 43,
     "metadata": {},
     "output_type": "execute_result"
    }
   ],
   "source": [
    "Bank_df_sub['age'].value_counts()"
   ]
  },
  {
   "cell_type": "markdown",
   "metadata": {},
   "source": [
    "Integer encodeing ordinal fetures. age and education"
   ]
  },
  {
   "cell_type": "code",
   "execution_count": 44,
   "metadata": {},
   "outputs": [],
   "source": [
    "#Age\n",
    "level_mapping_age = {'young': 0, 'middle': 1, 'old': 2}\n",
    "Bank_df_sub['age'] = Bank_df_sub['age'].replace(level_mapping_age)"
   ]
  },
  {
   "cell_type": "code",
   "execution_count": 45,
   "metadata": {},
   "outputs": [],
   "source": [
    "#Education\n",
    "level_mapping_education={'illiterate':0,'basic.4y':1,'basic.6y':2,'basic.9y':3,'high.school':4,'professional.course':5,'university.degree':6}\n",
    "Bank_df_sub['education'] = Bank_df_sub['education'].replace(level_mapping_education)"
   ]
  },
  {
   "cell_type": "markdown",
   "metadata": {},
   "source": [
    "Dropping the target"
   ]
  },
  {
   "cell_type": "code",
   "execution_count": 46,
   "metadata": {},
   "outputs": [],
   "source": [
    "#dropping target variable\n",
    "Bank_df_data = Bank_df_sub.drop(columns='y')\n",
    "Bank_df_target = Bank_df_sub['y']"
   ]
  },
  {
   "cell_type": "code",
   "execution_count": 47,
   "metadata": {},
   "outputs": [
    {
     "data": {
      "text/html": [
       "<div>\n",
       "<style scoped>\n",
       "    .dataframe tbody tr th:only-of-type {\n",
       "        vertical-align: middle;\n",
       "    }\n",
       "\n",
       "    .dataframe tbody tr th {\n",
       "        vertical-align: top;\n",
       "    }\n",
       "\n",
       "    .dataframe thead th {\n",
       "        text-align: right;\n",
       "    }\n",
       "</style>\n",
       "<table border=\"1\" class=\"dataframe\">\n",
       "  <thead>\n",
       "    <tr style=\"text-align: right;\">\n",
       "      <th></th>\n",
       "      <th>age</th>\n",
       "      <th>job</th>\n",
       "      <th>marital</th>\n",
       "      <th>education</th>\n",
       "      <th>housing</th>\n",
       "      <th>loan</th>\n",
       "      <th>contact</th>\n",
       "      <th>month</th>\n",
       "      <th>day_of_week</th>\n",
       "      <th>campaign</th>\n",
       "      <th>pdays</th>\n",
       "      <th>previous</th>\n",
       "      <th>poutcome</th>\n",
       "      <th>emp.var.rate</th>\n",
       "      <th>cons.price.idx</th>\n",
       "      <th>cons.conf.idx</th>\n",
       "      <th>euribor3m</th>\n",
       "      <th>nr.employed</th>\n",
       "    </tr>\n",
       "  </thead>\n",
       "  <tbody>\n",
       "    <tr>\n",
       "      <th>0</th>\n",
       "      <td>0</td>\n",
       "      <td>blue-collar</td>\n",
       "      <td>married</td>\n",
       "      <td>3</td>\n",
       "      <td>yes</td>\n",
       "      <td>no</td>\n",
       "      <td>cellular</td>\n",
       "      <td>may</td>\n",
       "      <td>fri</td>\n",
       "      <td>2</td>\n",
       "      <td>999</td>\n",
       "      <td>0</td>\n",
       "      <td>nonexistent</td>\n",
       "      <td>-1.8</td>\n",
       "      <td>92.893</td>\n",
       "      <td>-46.2</td>\n",
       "      <td>1.313</td>\n",
       "      <td>5099.1</td>\n",
       "    </tr>\n",
       "    <tr>\n",
       "      <th>1</th>\n",
       "      <td>1</td>\n",
       "      <td>services</td>\n",
       "      <td>single</td>\n",
       "      <td>4</td>\n",
       "      <td>no</td>\n",
       "      <td>no</td>\n",
       "      <td>telephone</td>\n",
       "      <td>may</td>\n",
       "      <td>fri</td>\n",
       "      <td>4</td>\n",
       "      <td>999</td>\n",
       "      <td>0</td>\n",
       "      <td>nonexistent</td>\n",
       "      <td>1.1</td>\n",
       "      <td>93.994</td>\n",
       "      <td>-36.4</td>\n",
       "      <td>4.855</td>\n",
       "      <td>5191.0</td>\n",
       "    </tr>\n",
       "    <tr>\n",
       "      <th>2</th>\n",
       "      <td>0</td>\n",
       "      <td>services</td>\n",
       "      <td>married</td>\n",
       "      <td>4</td>\n",
       "      <td>yes</td>\n",
       "      <td>no</td>\n",
       "      <td>telephone</td>\n",
       "      <td>jun</td>\n",
       "      <td>wed</td>\n",
       "      <td>1</td>\n",
       "      <td>999</td>\n",
       "      <td>0</td>\n",
       "      <td>nonexistent</td>\n",
       "      <td>1.4</td>\n",
       "      <td>94.465</td>\n",
       "      <td>-41.8</td>\n",
       "      <td>4.962</td>\n",
       "      <td>5228.1</td>\n",
       "    </tr>\n",
       "    <tr>\n",
       "      <th>3</th>\n",
       "      <td>1</td>\n",
       "      <td>services</td>\n",
       "      <td>married</td>\n",
       "      <td>3</td>\n",
       "      <td>yes</td>\n",
       "      <td>no</td>\n",
       "      <td>telephone</td>\n",
       "      <td>jun</td>\n",
       "      <td>fri</td>\n",
       "      <td>3</td>\n",
       "      <td>999</td>\n",
       "      <td>0</td>\n",
       "      <td>nonexistent</td>\n",
       "      <td>1.4</td>\n",
       "      <td>94.465</td>\n",
       "      <td>-41.8</td>\n",
       "      <td>4.959</td>\n",
       "      <td>5228.1</td>\n",
       "    </tr>\n",
       "    <tr>\n",
       "      <th>4</th>\n",
       "      <td>2</td>\n",
       "      <td>admin.</td>\n",
       "      <td>married</td>\n",
       "      <td>6</td>\n",
       "      <td>yes</td>\n",
       "      <td>no</td>\n",
       "      <td>cellular</td>\n",
       "      <td>nov</td>\n",
       "      <td>mon</td>\n",
       "      <td>1</td>\n",
       "      <td>999</td>\n",
       "      <td>0</td>\n",
       "      <td>nonexistent</td>\n",
       "      <td>-0.1</td>\n",
       "      <td>93.200</td>\n",
       "      <td>-42.0</td>\n",
       "      <td>4.191</td>\n",
       "      <td>5195.8</td>\n",
       "    </tr>\n",
       "  </tbody>\n",
       "</table>\n",
       "</div>"
      ],
      "text/plain": [
       "   age          job  marital  education housing loan    contact month  \\\n",
       "0    0  blue-collar  married          3     yes   no   cellular   may   \n",
       "1    1     services   single          4      no   no  telephone   may   \n",
       "2    0     services  married          4     yes   no  telephone   jun   \n",
       "3    1     services  married          3     yes   no  telephone   jun   \n",
       "4    2       admin.  married          6     yes   no   cellular   nov   \n",
       "\n",
       "  day_of_week  campaign  pdays  previous     poutcome  emp.var.rate  \\\n",
       "0         fri         2    999         0  nonexistent          -1.8   \n",
       "1         fri         4    999         0  nonexistent           1.1   \n",
       "2         wed         1    999         0  nonexistent           1.4   \n",
       "3         fri         3    999         0  nonexistent           1.4   \n",
       "4         mon         1    999         0  nonexistent          -0.1   \n",
       "\n",
       "   cons.price.idx  cons.conf.idx  euribor3m  nr.employed  \n",
       "0          92.893          -46.2      1.313       5099.1  \n",
       "1          93.994          -36.4      4.855       5191.0  \n",
       "2          94.465          -41.8      4.962       5228.1  \n",
       "3          94.465          -41.8      4.959       5228.1  \n",
       "4          93.200          -42.0      4.191       5195.8  "
      ]
     },
     "execution_count": 47,
     "metadata": {},
     "output_type": "execute_result"
    }
   ],
   "source": [
    "Bank_df_data.head()"
   ]
  },
  {
   "cell_type": "markdown",
   "metadata": {},
   "source": [
    "One-hot encoding for nominal variables "
   ]
  },
  {
   "cell_type": "code",
   "execution_count": 48,
   "metadata": {},
   "outputs": [],
   "source": [
    "Bank_df_data['job'] = Bank_df_data['job'].astype(object)\n",
    "Bank_df_data['marital'] = Bank_df_data['marital'].astype(object)\n",
    "Bank_df_data['housing'] = Bank_df_data['housing'].astype(object)\n",
    "Bank_df_data['loan'] = Bank_df_data['loan'].astype(object)\n",
    "Bank_df_data['contact'] = Bank_df_data['contact'].astype(object)\n",
    "Bank_df_data['month'] = Bank_df_data['month'].astype(object)\n",
    "Bank_df_data['day_of_week'] = Bank_df_data['day_of_week'].astype(object)\n",
    "Bank_df_data['poutcome'] = Bank_df_data['poutcome'].astype(object)"
   ]
  },
  {
   "cell_type": "code",
   "execution_count": 49,
   "metadata": {},
   "outputs": [],
   "source": [
    "categorical_cols = Bank_df_data.columns[Bank_df_data.dtypes==object].tolist()\n",
    "\n",
    "for col in categorical_cols:\n",
    "    n = len(Bank_df_data[col].unique())\n",
    "    if (n == 2):\n",
    "        Bank_df_data[col] = pd.get_dummies(Bank_df_data[col], drop_first=True)\n",
    "        \n",
    "Bank_df_data = pd.get_dummies(Bank_df_data)"
   ]
  },
  {
   "cell_type": "code",
   "execution_count": 50,
   "metadata": {},
   "outputs": [
    {
     "data": {
      "text/html": [
       "<div>\n",
       "<style scoped>\n",
       "    .dataframe tbody tr th:only-of-type {\n",
       "        vertical-align: middle;\n",
       "    }\n",
       "\n",
       "    .dataframe tbody tr th {\n",
       "        vertical-align: top;\n",
       "    }\n",
       "\n",
       "    .dataframe thead th {\n",
       "        text-align: right;\n",
       "    }\n",
       "</style>\n",
       "<table border=\"1\" class=\"dataframe\">\n",
       "  <thead>\n",
       "    <tr style=\"text-align: right;\">\n",
       "      <th></th>\n",
       "      <th>age</th>\n",
       "      <th>education</th>\n",
       "      <th>housing</th>\n",
       "      <th>loan</th>\n",
       "      <th>contact</th>\n",
       "      <th>campaign</th>\n",
       "      <th>pdays</th>\n",
       "      <th>previous</th>\n",
       "      <th>emp.var.rate</th>\n",
       "      <th>cons.price.idx</th>\n",
       "      <th>cons.conf.idx</th>\n",
       "      <th>euribor3m</th>\n",
       "      <th>nr.employed</th>\n",
       "      <th>job_admin.</th>\n",
       "      <th>job_blue-collar</th>\n",
       "      <th>job_entrepreneur</th>\n",
       "      <th>job_housemaid</th>\n",
       "      <th>job_management</th>\n",
       "      <th>job_retired</th>\n",
       "      <th>job_self-employed</th>\n",
       "      <th>job_services</th>\n",
       "      <th>job_student</th>\n",
       "      <th>job_technician</th>\n",
       "      <th>job_unemployed</th>\n",
       "      <th>marital_divorced</th>\n",
       "      <th>marital_married</th>\n",
       "      <th>marital_single</th>\n",
       "      <th>month_apr</th>\n",
       "      <th>month_aug</th>\n",
       "      <th>month_dec</th>\n",
       "      <th>month_jul</th>\n",
       "      <th>month_jun</th>\n",
       "      <th>month_mar</th>\n",
       "      <th>month_may</th>\n",
       "      <th>month_nov</th>\n",
       "      <th>month_oct</th>\n",
       "      <th>month_sep</th>\n",
       "      <th>day_of_week_fri</th>\n",
       "      <th>day_of_week_mon</th>\n",
       "      <th>day_of_week_thu</th>\n",
       "      <th>day_of_week_tue</th>\n",
       "      <th>day_of_week_wed</th>\n",
       "      <th>poutcome_failure</th>\n",
       "      <th>poutcome_nonexistent</th>\n",
       "      <th>poutcome_success</th>\n",
       "    </tr>\n",
       "  </thead>\n",
       "  <tbody>\n",
       "    <tr>\n",
       "      <th>0</th>\n",
       "      <td>0</td>\n",
       "      <td>3</td>\n",
       "      <td>1</td>\n",
       "      <td>0</td>\n",
       "      <td>0</td>\n",
       "      <td>2</td>\n",
       "      <td>999</td>\n",
       "      <td>0</td>\n",
       "      <td>-1.8</td>\n",
       "      <td>92.893</td>\n",
       "      <td>-46.2</td>\n",
       "      <td>1.313</td>\n",
       "      <td>5099.1</td>\n",
       "      <td>0</td>\n",
       "      <td>1</td>\n",
       "      <td>0</td>\n",
       "      <td>0</td>\n",
       "      <td>0</td>\n",
       "      <td>0</td>\n",
       "      <td>0</td>\n",
       "      <td>0</td>\n",
       "      <td>0</td>\n",
       "      <td>0</td>\n",
       "      <td>0</td>\n",
       "      <td>0</td>\n",
       "      <td>1</td>\n",
       "      <td>0</td>\n",
       "      <td>0</td>\n",
       "      <td>0</td>\n",
       "      <td>0</td>\n",
       "      <td>0</td>\n",
       "      <td>0</td>\n",
       "      <td>0</td>\n",
       "      <td>1</td>\n",
       "      <td>0</td>\n",
       "      <td>0</td>\n",
       "      <td>0</td>\n",
       "      <td>1</td>\n",
       "      <td>0</td>\n",
       "      <td>0</td>\n",
       "      <td>0</td>\n",
       "      <td>0</td>\n",
       "      <td>0</td>\n",
       "      <td>1</td>\n",
       "      <td>0</td>\n",
       "    </tr>\n",
       "    <tr>\n",
       "      <th>1</th>\n",
       "      <td>1</td>\n",
       "      <td>4</td>\n",
       "      <td>0</td>\n",
       "      <td>0</td>\n",
       "      <td>1</td>\n",
       "      <td>4</td>\n",
       "      <td>999</td>\n",
       "      <td>0</td>\n",
       "      <td>1.1</td>\n",
       "      <td>93.994</td>\n",
       "      <td>-36.4</td>\n",
       "      <td>4.855</td>\n",
       "      <td>5191.0</td>\n",
       "      <td>0</td>\n",
       "      <td>0</td>\n",
       "      <td>0</td>\n",
       "      <td>0</td>\n",
       "      <td>0</td>\n",
       "      <td>0</td>\n",
       "      <td>0</td>\n",
       "      <td>1</td>\n",
       "      <td>0</td>\n",
       "      <td>0</td>\n",
       "      <td>0</td>\n",
       "      <td>0</td>\n",
       "      <td>0</td>\n",
       "      <td>1</td>\n",
       "      <td>0</td>\n",
       "      <td>0</td>\n",
       "      <td>0</td>\n",
       "      <td>0</td>\n",
       "      <td>0</td>\n",
       "      <td>0</td>\n",
       "      <td>1</td>\n",
       "      <td>0</td>\n",
       "      <td>0</td>\n",
       "      <td>0</td>\n",
       "      <td>1</td>\n",
       "      <td>0</td>\n",
       "      <td>0</td>\n",
       "      <td>0</td>\n",
       "      <td>0</td>\n",
       "      <td>0</td>\n",
       "      <td>1</td>\n",
       "      <td>0</td>\n",
       "    </tr>\n",
       "    <tr>\n",
       "      <th>2</th>\n",
       "      <td>0</td>\n",
       "      <td>4</td>\n",
       "      <td>1</td>\n",
       "      <td>0</td>\n",
       "      <td>1</td>\n",
       "      <td>1</td>\n",
       "      <td>999</td>\n",
       "      <td>0</td>\n",
       "      <td>1.4</td>\n",
       "      <td>94.465</td>\n",
       "      <td>-41.8</td>\n",
       "      <td>4.962</td>\n",
       "      <td>5228.1</td>\n",
       "      <td>0</td>\n",
       "      <td>0</td>\n",
       "      <td>0</td>\n",
       "      <td>0</td>\n",
       "      <td>0</td>\n",
       "      <td>0</td>\n",
       "      <td>0</td>\n",
       "      <td>1</td>\n",
       "      <td>0</td>\n",
       "      <td>0</td>\n",
       "      <td>0</td>\n",
       "      <td>0</td>\n",
       "      <td>1</td>\n",
       "      <td>0</td>\n",
       "      <td>0</td>\n",
       "      <td>0</td>\n",
       "      <td>0</td>\n",
       "      <td>0</td>\n",
       "      <td>1</td>\n",
       "      <td>0</td>\n",
       "      <td>0</td>\n",
       "      <td>0</td>\n",
       "      <td>0</td>\n",
       "      <td>0</td>\n",
       "      <td>0</td>\n",
       "      <td>0</td>\n",
       "      <td>0</td>\n",
       "      <td>0</td>\n",
       "      <td>1</td>\n",
       "      <td>0</td>\n",
       "      <td>1</td>\n",
       "      <td>0</td>\n",
       "    </tr>\n",
       "    <tr>\n",
       "      <th>3</th>\n",
       "      <td>1</td>\n",
       "      <td>3</td>\n",
       "      <td>1</td>\n",
       "      <td>0</td>\n",
       "      <td>1</td>\n",
       "      <td>3</td>\n",
       "      <td>999</td>\n",
       "      <td>0</td>\n",
       "      <td>1.4</td>\n",
       "      <td>94.465</td>\n",
       "      <td>-41.8</td>\n",
       "      <td>4.959</td>\n",
       "      <td>5228.1</td>\n",
       "      <td>0</td>\n",
       "      <td>0</td>\n",
       "      <td>0</td>\n",
       "      <td>0</td>\n",
       "      <td>0</td>\n",
       "      <td>0</td>\n",
       "      <td>0</td>\n",
       "      <td>1</td>\n",
       "      <td>0</td>\n",
       "      <td>0</td>\n",
       "      <td>0</td>\n",
       "      <td>0</td>\n",
       "      <td>1</td>\n",
       "      <td>0</td>\n",
       "      <td>0</td>\n",
       "      <td>0</td>\n",
       "      <td>0</td>\n",
       "      <td>0</td>\n",
       "      <td>1</td>\n",
       "      <td>0</td>\n",
       "      <td>0</td>\n",
       "      <td>0</td>\n",
       "      <td>0</td>\n",
       "      <td>0</td>\n",
       "      <td>1</td>\n",
       "      <td>0</td>\n",
       "      <td>0</td>\n",
       "      <td>0</td>\n",
       "      <td>0</td>\n",
       "      <td>0</td>\n",
       "      <td>1</td>\n",
       "      <td>0</td>\n",
       "    </tr>\n",
       "    <tr>\n",
       "      <th>4</th>\n",
       "      <td>2</td>\n",
       "      <td>6</td>\n",
       "      <td>1</td>\n",
       "      <td>0</td>\n",
       "      <td>0</td>\n",
       "      <td>1</td>\n",
       "      <td>999</td>\n",
       "      <td>0</td>\n",
       "      <td>-0.1</td>\n",
       "      <td>93.200</td>\n",
       "      <td>-42.0</td>\n",
       "      <td>4.191</td>\n",
       "      <td>5195.8</td>\n",
       "      <td>1</td>\n",
       "      <td>0</td>\n",
       "      <td>0</td>\n",
       "      <td>0</td>\n",
       "      <td>0</td>\n",
       "      <td>0</td>\n",
       "      <td>0</td>\n",
       "      <td>0</td>\n",
       "      <td>0</td>\n",
       "      <td>0</td>\n",
       "      <td>0</td>\n",
       "      <td>0</td>\n",
       "      <td>1</td>\n",
       "      <td>0</td>\n",
       "      <td>0</td>\n",
       "      <td>0</td>\n",
       "      <td>0</td>\n",
       "      <td>0</td>\n",
       "      <td>0</td>\n",
       "      <td>0</td>\n",
       "      <td>0</td>\n",
       "      <td>1</td>\n",
       "      <td>0</td>\n",
       "      <td>0</td>\n",
       "      <td>0</td>\n",
       "      <td>1</td>\n",
       "      <td>0</td>\n",
       "      <td>0</td>\n",
       "      <td>0</td>\n",
       "      <td>0</td>\n",
       "      <td>1</td>\n",
       "      <td>0</td>\n",
       "    </tr>\n",
       "  </tbody>\n",
       "</table>\n",
       "</div>"
      ],
      "text/plain": [
       "   age  education  housing  loan  contact  campaign  pdays  previous  \\\n",
       "0    0          3        1     0        0         2    999         0   \n",
       "1    1          4        0     0        1         4    999         0   \n",
       "2    0          4        1     0        1         1    999         0   \n",
       "3    1          3        1     0        1         3    999         0   \n",
       "4    2          6        1     0        0         1    999         0   \n",
       "\n",
       "   emp.var.rate  cons.price.idx  cons.conf.idx  euribor3m  nr.employed  \\\n",
       "0          -1.8          92.893          -46.2      1.313       5099.1   \n",
       "1           1.1          93.994          -36.4      4.855       5191.0   \n",
       "2           1.4          94.465          -41.8      4.962       5228.1   \n",
       "3           1.4          94.465          -41.8      4.959       5228.1   \n",
       "4          -0.1          93.200          -42.0      4.191       5195.8   \n",
       "\n",
       "   job_admin.  job_blue-collar  job_entrepreneur  job_housemaid  \\\n",
       "0           0                1                 0              0   \n",
       "1           0                0                 0              0   \n",
       "2           0                0                 0              0   \n",
       "3           0                0                 0              0   \n",
       "4           1                0                 0              0   \n",
       "\n",
       "   job_management  job_retired  job_self-employed  job_services  job_student  \\\n",
       "0               0            0                  0             0            0   \n",
       "1               0            0                  0             1            0   \n",
       "2               0            0                  0             1            0   \n",
       "3               0            0                  0             1            0   \n",
       "4               0            0                  0             0            0   \n",
       "\n",
       "   job_technician  job_unemployed  marital_divorced  marital_married  \\\n",
       "0               0               0                 0                1   \n",
       "1               0               0                 0                0   \n",
       "2               0               0                 0                1   \n",
       "3               0               0                 0                1   \n",
       "4               0               0                 0                1   \n",
       "\n",
       "   marital_single  month_apr  month_aug  month_dec  month_jul  month_jun  \\\n",
       "0               0          0          0          0          0          0   \n",
       "1               1          0          0          0          0          0   \n",
       "2               0          0          0          0          0          1   \n",
       "3               0          0          0          0          0          1   \n",
       "4               0          0          0          0          0          0   \n",
       "\n",
       "   month_mar  month_may  month_nov  month_oct  month_sep  day_of_week_fri  \\\n",
       "0          0          1          0          0          0                1   \n",
       "1          0          1          0          0          0                1   \n",
       "2          0          0          0          0          0                0   \n",
       "3          0          0          0          0          0                1   \n",
       "4          0          0          1          0          0                0   \n",
       "\n",
       "   day_of_week_mon  day_of_week_thu  day_of_week_tue  day_of_week_wed  \\\n",
       "0                0                0                0                0   \n",
       "1                0                0                0                0   \n",
       "2                0                0                0                1   \n",
       "3                0                0                0                0   \n",
       "4                1                0                0                0   \n",
       "\n",
       "   poutcome_failure  poutcome_nonexistent  poutcome_success  \n",
       "0                 0                     1                 0  \n",
       "1                 0                     1                 0  \n",
       "2                 0                     1                 0  \n",
       "3                 0                     1                 0  \n",
       "4                 0                     1                 0  "
      ]
     },
     "execution_count": 50,
     "metadata": {},
     "output_type": "execute_result"
    }
   ],
   "source": [
    "Bank_df_data.head()"
   ]
  },
  {
   "cell_type": "code",
   "execution_count": 51,
   "metadata": {},
   "outputs": [
    {
     "data": {
      "text/plain": [
       "(4119, 45)"
      ]
     },
     "execution_count": 51,
     "metadata": {},
     "output_type": "execute_result"
    }
   ],
   "source": [
    "Bank_df_data.shape"
   ]
  },
  {
   "cell_type": "code",
   "execution_count": 52,
   "metadata": {
    "scrolled": true
   },
   "outputs": [
    {
     "data": {
      "text/plain": [
       "Index(['age', 'education', 'housing', 'loan', 'contact', 'campaign', 'pdays',\n",
       "       'previous', 'emp.var.rate', 'cons.price.idx', 'cons.conf.idx',\n",
       "       'euribor3m', 'nr.employed', 'job_admin.', 'job_blue-collar',\n",
       "       'job_entrepreneur', 'job_housemaid', 'job_management', 'job_retired',\n",
       "       'job_self-employed', 'job_services', 'job_student', 'job_technician',\n",
       "       'job_unemployed', 'marital_divorced', 'marital_married',\n",
       "       'marital_single', 'month_apr', 'month_aug', 'month_dec', 'month_jul',\n",
       "       'month_jun', 'month_mar', 'month_may', 'month_nov', 'month_oct',\n",
       "       'month_sep', 'day_of_week_fri', 'day_of_week_mon', 'day_of_week_thu',\n",
       "       'day_of_week_tue', 'day_of_week_wed', 'poutcome_failure',\n",
       "       'poutcome_nonexistent', 'poutcome_success'],\n",
       "      dtype='object')"
      ]
     },
     "execution_count": 52,
     "metadata": {},
     "output_type": "execute_result"
    }
   ],
   "source": [
    "Bank_df_data.columns"
   ]
  },
  {
   "cell_type": "markdown",
   "metadata": {},
   "source": [
    "#### ENCODING THE TARGET \n",
    "As you can see the target is highly imbalanced with only 451 with Yes and 3668 with No. "
   ]
  },
  {
   "cell_type": "code",
   "execution_count": 53,
   "metadata": {},
   "outputs": [
    {
     "data": {
      "text/plain": [
       "(array(['no', 'yes'], dtype=object), array([3668,  451], dtype=int64))"
      ]
     },
     "execution_count": 53,
     "metadata": {},
     "output_type": "execute_result"
    }
   ],
   "source": [
    "np.unique(Bank_df_target, return_counts=True)"
   ]
  },
  {
   "cell_type": "code",
   "execution_count": 54,
   "metadata": {},
   "outputs": [],
   "source": [
    "target = preprocessing.LabelEncoder().fit_transform(Bank_df_target)"
   ]
  },
  {
   "cell_type": "code",
   "execution_count": 55,
   "metadata": {},
   "outputs": [
    {
     "data": {
      "text/plain": [
       "(array([0, 1]), array([3668,  451], dtype=int64))"
      ]
     },
     "execution_count": 55,
     "metadata": {},
     "output_type": "execute_result"
    }
   ],
   "source": [
    "np.unique(target, return_counts=True)"
   ]
  },
  {
   "cell_type": "markdown",
   "metadata": {},
   "source": [
    "#### SCALING THE DATA \n",
    "It's important to use an appropriate scaler on the descriptive features whenever we try to fit to a model as it's essential for most algorithms. Here the minmax scaler is used. This will be used in the next part of the report. "
   ]
  },
  {
   "cell_type": "code",
   "execution_count": 56,
   "metadata": {},
   "outputs": [],
   "source": [
    "Bank_df_data_scaler = preprocessing.MinMaxScaler().fit(Bank_df_data)\n",
    "Data = Bank_df_data_scaler.transform(Bank_df_data)"
   ]
  },
  {
   "cell_type": "markdown",
   "metadata": {},
   "source": [
    "## Feature selection using random forest importance (RFI)\n"
   ]
  },
  {
   "cell_type": "markdown",
   "metadata": {},
   "source": [
    "This is just to understand about the features that we are dealing with in future. Later RFI will be used in pipelines for efficient presentation. We'll take a look at the most relevant 30 features and how they contribute towards the prediction. Note that RFI is just one method of feature selection and we will only try this due to our limitations. Other methods include F-score, Mutual Information and Wrapper methods."
   ]
  },
  {
   "cell_type": "code",
   "execution_count": 57,
   "metadata": {},
   "outputs": [],
   "source": [
    "from sklearn.ensemble import RandomForestClassifier\n",
    "from sklearn import feature_selection as fs"
   ]
  },
  {
   "cell_type": "code",
   "execution_count": 58,
   "metadata": {},
   "outputs": [],
   "source": [
    "num_features1=30"
   ]
  },
  {
   "cell_type": "code",
   "execution_count": 59,
   "metadata": {},
   "outputs": [],
   "source": [
    "#?RandomForestClassifier"
   ]
  },
  {
   "cell_type": "markdown",
   "metadata": {},
   "source": [
    "#### for 30 features"
   ]
  },
  {
   "cell_type": "code",
   "execution_count": 60,
   "metadata": {},
   "outputs": [
    {
     "data": {
      "text/plain": [
       "array(['euribor3m', 'campaign', 'education', 'nr.employed', 'age',\n",
       "       'pdays', 'housing', 'cons.conf.idx', 'cons.price.idx',\n",
       "       'poutcome_success', 'job_admin.', 'emp.var.rate', 'loan',\n",
       "       'marital_married', 'previous', 'marital_single', 'day_of_week_thu',\n",
       "       'day_of_week_tue', 'day_of_week_mon', 'job_technician',\n",
       "       'day_of_week_wed', 'day_of_week_fri', 'job_blue-collar', 'contact',\n",
       "       'marital_divorced', 'job_retired', 'job_management',\n",
       "       'poutcome_nonexistent', 'job_services', 'poutcome_failure'],\n",
       "      dtype=object)"
      ]
     },
     "execution_count": 60,
     "metadata": {},
     "output_type": "execute_result"
    }
   ],
   "source": [
    "model_rfi = RandomForestClassifier(n_estimators=100,random_state=9)\n",
    "model_rfi.fit(Data,target)\n",
    "fs_indices_rfi = np.argsort(model_rfi.feature_importances_)[::-1][0:num_features1]\n",
    "\n",
    "best_features_rfi = Bank_df_data.columns[fs_indices_rfi].values\n",
    "best_features_rfi"
   ]
  },
  {
   "cell_type": "code",
   "execution_count": 61,
   "metadata": {},
   "outputs": [
    {
     "data": {
      "text/plain": [
       "array([0.14313416, 0.07831125, 0.07430109, 0.05719672, 0.05216937,\n",
       "       0.03993744, 0.03749105, 0.03534706, 0.03256181, 0.02832219,\n",
       "       0.02506869, 0.02506012, 0.02251662, 0.02214334, 0.02062065,\n",
       "       0.02006401, 0.01917794, 0.01864449, 0.01835912, 0.0177286 ,\n",
       "       0.01731091, 0.01715764, 0.01573853, 0.0154998 , 0.01303864,\n",
       "       0.01268703, 0.01225453, 0.01116612, 0.01066514, 0.01048036])"
      ]
     },
     "execution_count": 61,
     "metadata": {},
     "output_type": "execute_result"
    }
   ],
   "source": [
    "feature_importances_rfi = model_rfi.feature_importances_[fs_indices_rfi]\n",
    "feature_importances_rfi"
   ]
  },
  {
   "cell_type": "code",
   "execution_count": 62,
   "metadata": {},
   "outputs": [],
   "source": [
    "import altair as alt\n",
    "\n",
    "def plot_imp(best_features, scores, method_name, color):\n",
    "    \n",
    "    df = pd.DataFrame({'features': best_features, \n",
    "                       'importances': scores})\n",
    "    \n",
    "    chart = alt.Chart(df, \n",
    "                      width=500, \n",
    "                      title=method_name + ' Feature Importances'\n",
    "                     ).mark_bar(opacity=0.75, \n",
    "                                color=color).encode(\n",
    "        alt.X('features', title='Feature', sort=None, axis=alt.AxisConfig(labelAngle=45)),\n",
    "        alt.Y('importances', title='Importance')\n",
    "    )\n",
    "    \n",
    "    return chart"
   ]
  },
  {
   "cell_type": "code",
   "execution_count": 63,
   "metadata": {
    "scrolled": true
   },
   "outputs": [
    {
     "data": {
      "text/html": [
       "\n",
       "<div id=\"altair-viz-16541099f28b42dbb46d82cb5578e7f7\"></div>\n",
       "<script type=\"text/javascript\">\n",
       "  (function(spec, embedOpt){\n",
       "    let outputDiv = document.currentScript.previousElementSibling;\n",
       "    if (outputDiv.id !== \"altair-viz-16541099f28b42dbb46d82cb5578e7f7\") {\n",
       "      outputDiv = document.getElementById(\"altair-viz-16541099f28b42dbb46d82cb5578e7f7\");\n",
       "    }\n",
       "    const paths = {\n",
       "      \"vega\": \"https://cdn.jsdelivr.net/npm//vega@5?noext\",\n",
       "      \"vega-lib\": \"https://cdn.jsdelivr.net/npm//vega-lib?noext\",\n",
       "      \"vega-lite\": \"https://cdn.jsdelivr.net/npm//vega-lite@4.8.1?noext\",\n",
       "      \"vega-embed\": \"https://cdn.jsdelivr.net/npm//vega-embed@6?noext\",\n",
       "    };\n",
       "\n",
       "    function loadScript(lib) {\n",
       "      return new Promise(function(resolve, reject) {\n",
       "        var s = document.createElement('script');\n",
       "        s.src = paths[lib];\n",
       "        s.async = true;\n",
       "        s.onload = () => resolve(paths[lib]);\n",
       "        s.onerror = () => reject(`Error loading script: ${paths[lib]}`);\n",
       "        document.getElementsByTagName(\"head\")[0].appendChild(s);\n",
       "      });\n",
       "    }\n",
       "\n",
       "    function showError(err) {\n",
       "      outputDiv.innerHTML = `<div class=\"error\" style=\"color:red;\">${err}</div>`;\n",
       "      throw err;\n",
       "    }\n",
       "\n",
       "    function displayChart(vegaEmbed) {\n",
       "      vegaEmbed(outputDiv, spec, embedOpt)\n",
       "        .catch(err => showError(`Javascript Error: ${err.message}<br>This usually means there's a typo in your chart specification. See the javascript console for the full traceback.`));\n",
       "    }\n",
       "\n",
       "    if(typeof define === \"function\" && define.amd) {\n",
       "      requirejs.config({paths});\n",
       "      require([\"vega-embed\"], displayChart, err => showError(`Error loading script: ${err.message}`));\n",
       "    } else if (typeof vegaEmbed === \"function\") {\n",
       "      displayChart(vegaEmbed);\n",
       "    } else {\n",
       "      loadScript(\"vega\")\n",
       "        .then(() => loadScript(\"vega-lite\"))\n",
       "        .then(() => loadScript(\"vega-embed\"))\n",
       "        .catch(showError)\n",
       "        .then(() => displayChart(vegaEmbed));\n",
       "    }\n",
       "  })({\"config\": {\"view\": {\"continuousWidth\": 400, \"continuousHeight\": 300}}, \"data\": {\"name\": \"data-8428e5650192a9741f352e5f0e7cbe64\"}, \"mark\": {\"type\": \"bar\", \"color\": \"green\", \"opacity\": 0.75}, \"encoding\": {\"x\": {\"type\": \"nominal\", \"axis\": {\"labelAngle\": 45}, \"field\": \"features\", \"sort\": null, \"title\": \"Feature\"}, \"y\": {\"type\": \"quantitative\", \"field\": \"importances\", \"title\": \"Importance\"}}, \"title\": \"Random Forest Feature Importances\", \"width\": 500, \"$schema\": \"https://vega.github.io/schema/vega-lite/v4.8.1.json\", \"datasets\": {\"data-8428e5650192a9741f352e5f0e7cbe64\": [{\"features\": \"euribor3m\", \"importances\": 0.14313416027717382}, {\"features\": \"campaign\", \"importances\": 0.07831125361090234}, {\"features\": \"education\", \"importances\": 0.07430108989862716}, {\"features\": \"nr.employed\", \"importances\": 0.05719671574786456}, {\"features\": \"age\", \"importances\": 0.05216937312353498}, {\"features\": \"pdays\", \"importances\": 0.03993743765827925}, {\"features\": \"housing\", \"importances\": 0.037491050051850806}, {\"features\": \"cons.conf.idx\", \"importances\": 0.03534705642486211}, {\"features\": \"cons.price.idx\", \"importances\": 0.032561806639222646}, {\"features\": \"poutcome_success\", \"importances\": 0.028322193344231035}, {\"features\": \"job_admin.\", \"importances\": 0.025068689435386697}, {\"features\": \"emp.var.rate\", \"importances\": 0.02506011543749925}, {\"features\": \"loan\", \"importances\": 0.02251662418767975}, {\"features\": \"marital_married\", \"importances\": 0.022143336227328243}, {\"features\": \"previous\", \"importances\": 0.020620653720013607}, {\"features\": \"marital_single\", \"importances\": 0.020064009736133648}, {\"features\": \"day_of_week_thu\", \"importances\": 0.01917793979813527}, {\"features\": \"day_of_week_tue\", \"importances\": 0.01864448691603411}, {\"features\": \"day_of_week_mon\", \"importances\": 0.018359120070816835}, {\"features\": \"job_technician\", \"importances\": 0.017728604345442583}, {\"features\": \"day_of_week_wed\", \"importances\": 0.01731090906895686}, {\"features\": \"day_of_week_fri\", \"importances\": 0.01715764027486274}, {\"features\": \"job_blue-collar\", \"importances\": 0.01573852896188496}, {\"features\": \"contact\", \"importances\": 0.01549980275416078}, {\"features\": \"marital_divorced\", \"importances\": 0.013038636273634507}, {\"features\": \"job_retired\", \"importances\": 0.012687033602260592}, {\"features\": \"job_management\", \"importances\": 0.012254533800657422}, {\"features\": \"poutcome_nonexistent\", \"importances\": 0.011166122890092417}, {\"features\": \"job_services\", \"importances\": 0.010665142612010788}, {\"features\": \"poutcome_failure\", \"importances\": 0.010480358033636145}]}}, {\"mode\": \"vega-lite\"});\n",
       "</script>"
      ],
      "text/plain": [
       "alt.Chart(...)"
      ]
     },
     "execution_count": 63,
     "metadata": {},
     "output_type": "execute_result"
    }
   ],
   "source": [
    "plot_imp(best_features_rfi, feature_importances_rfi, 'Random Forest', 'green')"
   ]
  },
  {
   "cell_type": "markdown",
   "metadata": {},
   "source": [
    "### Train - Test Splitting\n",
    "Splitting the data using stratification (to account for the class imbalance problem we mentioned earlier) in 70:30 ratio for Train and Test respectively."
   ]
  },
  {
   "cell_type": "code",
   "execution_count": 64,
   "metadata": {},
   "outputs": [],
   "source": [
    "from sklearn.model_selection import train_test_split\n"
   ]
  },
  {
   "cell_type": "code",
   "execution_count": 65,
   "metadata": {},
   "outputs": [
    {
     "name": "stdout",
     "output_type": "stream",
     "text": [
      "(4119, 45)\n",
      "(4119,)\n"
     ]
    }
   ],
   "source": [
    "print(Data.shape)\n",
    "print(target.shape)"
   ]
  },
  {
   "cell_type": "code",
   "execution_count": 66,
   "metadata": {},
   "outputs": [
    {
     "name": "stdout",
     "output_type": "stream",
     "text": [
      "(2883, 45)\n",
      "(1236, 45)\n"
     ]
    }
   ],
   "source": [
    "D_train, D_test, t_train, t_test = train_test_split(Data, \n",
    "                                                    target, \n",
    "                                                    stratify=target,\n",
    "                                                    test_size = 0.3, \n",
    "                                                    random_state=7\n",
    "                                                   )\n",
    "\n",
    "print(D_train.shape)\n",
    "print(D_test.shape)"
   ]
  },
  {
   "cell_type": "markdown",
   "metadata": {},
   "source": [
    "### Model Evaluation Strategy"
   ]
  },
  {
   "cell_type": "markdown",
   "metadata": {},
   "source": [
    "Using 5 fold Stratified cross validation method withot any repetitions for shorter times for hyperparameters tuning."
   ]
  },
  {
   "cell_type": "code",
   "execution_count": 67,
   "metadata": {},
   "outputs": [],
   "source": [
    "from sklearn.model_selection import StratifiedKFold, GridSearchCV\n",
    "\n",
    "cv_method = StratifiedKFold(n_splits=5,random_state=9)"
   ]
  },
  {
   "cell_type": "markdown",
   "metadata": {},
   "source": [
    "## HYPER PARAMETER TUNNING"
   ]
  },
  {
   "cell_type": "markdown",
   "metadata": {},
   "source": [
    "### K-NEAREST NEIGHBOUR (KNN)\n",
    "The hyperparameters for KNN are: \n",
    "- Number of Neighbours (k) \n",
    "- Distance Metrics (p) <br>\n",
    "Pipeline Methodology will be used here. Feature Selection done by RFI with 100 estimators embedded to the pipeline. \n"
   ]
  },
  {
   "cell_type": "code",
   "execution_count": 68,
   "metadata": {},
   "outputs": [],
   "source": [
    "from sklearn.base import BaseEstimator, TransformerMixin\n",
    "# custom function for RFI feature selection inside a pipeline\n",
    "# here we use n_estimators=100\n",
    "class RFIFeatureSelector(BaseEstimator, TransformerMixin):\n",
    "    \n",
    "    # class constructor \n",
    "    # make sure class attributes end with a \"_\"\n",
    "    # per scikit-learn convention to avoid errors\n",
    "    def __init__(self, n_features_=10):\n",
    "        self.n_features_ = n_features_\n",
    "        self.fs_indices_ = None\n",
    "\n",
    "    # override the fit function\n",
    "    def fit(self, X, y):\n",
    "        from sklearn.ensemble import RandomForestClassifier\n",
    "        from numpy import argsort\n",
    "        model_rfi = RandomForestClassifier(n_estimators=100,random_state=4)\n",
    "        model_rfi.fit(X, y)\n",
    "        self.fs_indices_ = argsort(model_rfi.feature_importances_)[::-1][0:self.n_features_] \n",
    "        return self \n",
    "    \n",
    "    # override the transform function\n",
    "    def transform(self, X, y=None):\n",
    "        return X[:, self.fs_indices_]"
   ]
  },
  {
   "cell_type": "code",
   "execution_count": 69,
   "metadata": {},
   "outputs": [],
   "source": [
    "from sklearn.pipeline import Pipeline\n",
    "from sklearn.neighbors import KNeighborsClassifier\n",
    "\n",
    "pipe_KNN = Pipeline(steps=[('rfi_fs', RFIFeatureSelector()), \n",
    "                           ('knn', KNeighborsClassifier())])\n",
    "\n",
    "params_pipe_KNN = {'rfi_fs__n_features_': [10, 20, Data.shape[1]],\n",
    "                   'knn__n_neighbors': [1, 5, 10, 15, 20],\n",
    "                   'knn__p': [1, 2,3,5]}\n",
    "\n",
    "gs_pipe_KNN = GridSearchCV(estimator=pipe_KNN, \n",
    "                           param_grid=params_pipe_KNN, \n",
    "                           cv=cv_method,\n",
    "                           refit=True,\n",
    "                           n_jobs=-2,\n",
    "                           scoring='roc_auc',\n",
    "                           verbose=1) "
   ]
  },
  {
   "cell_type": "code",
   "execution_count": 70,
   "metadata": {},
   "outputs": [
    {
     "name": "stdout",
     "output_type": "stream",
     "text": [
      "Fitting 5 folds for each of 60 candidates, totalling 300 fits\n"
     ]
    },
    {
     "name": "stderr",
     "output_type": "stream",
     "text": [
      "[Parallel(n_jobs=-2)]: Using backend LokyBackend with 7 concurrent workers.\n",
      "[Parallel(n_jobs=-2)]: Done  36 tasks      | elapsed:    4.2s\n",
      "[Parallel(n_jobs=-2)]: Done 186 tasks      | elapsed:   16.3s\n",
      "[Parallel(n_jobs=-2)]: Done 300 out of 300 | elapsed:   27.0s finished\n"
     ]
    }
   ],
   "source": [
    "gs_pipe_KNN.fit(D_train, t_train);"
   ]
  },
  {
   "cell_type": "code",
   "execution_count": 71,
   "metadata": {},
   "outputs": [
    {
     "data": {
      "text/plain": [
       "{'knn__n_neighbors': 15, 'knn__p': 2, 'rfi_fs__n_features_': 20}"
      ]
     },
     "execution_count": 71,
     "metadata": {},
     "output_type": "execute_result"
    }
   ],
   "source": [
    "gs_pipe_KNN.best_params_"
   ]
  },
  {
   "cell_type": "code",
   "execution_count": 72,
   "metadata": {},
   "outputs": [
    {
     "data": {
      "text/plain": [
       "0.7235060427959812"
      ]
     },
     "execution_count": 72,
     "metadata": {},
     "output_type": "execute_result"
    }
   ],
   "source": [
    "gs_pipe_KNN.best_score_"
   ]
  },
  {
   "cell_type": "markdown",
   "metadata": {},
   "source": [
    "According to above, the best parameter combination is 15 neighbors with Eucledien distance using 20 features. However let's take a look at other combination of parameters as well."
   ]
  },
  {
   "cell_type": "code",
   "execution_count": 73,
   "metadata": {},
   "outputs": [],
   "source": [
    "# custom function to format the search results as a Pandas data frame\n",
    "def get_search_results(gs):\n",
    "\n",
    "    def model_result(scores, params):\n",
    "        scores = {'mean_score': np.mean(scores),\n",
    "             'std_score': np.std(scores),\n",
    "             'min_score': np.min(scores),\n",
    "             'max_score': np.max(scores)}\n",
    "        return pd.Series({**params,**scores})\n",
    "\n",
    "    models = []\n",
    "    scores = []\n",
    "\n",
    "    for i in range(gs.n_splits_):\n",
    "        key = f\"split{i}_test_score\"\n",
    "        r = gs.cv_results_[key]        \n",
    "        scores.append(r.reshape(-1,1))\n",
    "\n",
    "    all_scores = np.hstack(scores)\n",
    "    for p, s in zip(gs.cv_results_['params'], all_scores):\n",
    "        models.append((model_result(s, p)))\n",
    "\n",
    "    pipe_results = pd.concat(models, axis=1).T.sort_values(['mean_score'], ascending=False)\n",
    "\n",
    "    columns_first = ['mean_score', 'std_score', 'max_score', 'min_score']\n",
    "    columns = columns_first + [c for c in pipe_results.columns if c not in columns_first]\n",
    "\n",
    "    return pipe_results[columns]"
   ]
  },
  {
   "cell_type": "code",
   "execution_count": 74,
   "metadata": {},
   "outputs": [
    {
     "data": {
      "text/html": [
       "<div>\n",
       "<style scoped>\n",
       "    .dataframe tbody tr th:only-of-type {\n",
       "        vertical-align: middle;\n",
       "    }\n",
       "\n",
       "    .dataframe tbody tr th {\n",
       "        vertical-align: top;\n",
       "    }\n",
       "\n",
       "    .dataframe thead th {\n",
       "        text-align: right;\n",
       "    }\n",
       "</style>\n",
       "<table border=\"1\" class=\"dataframe\">\n",
       "  <thead>\n",
       "    <tr style=\"text-align: right;\">\n",
       "      <th></th>\n",
       "      <th>mean_score</th>\n",
       "      <th>std_score</th>\n",
       "      <th>max_score</th>\n",
       "      <th>min_score</th>\n",
       "      <th>knn__n_neighbors</th>\n",
       "      <th>knn__p</th>\n",
       "      <th>rfi_fs__n_features_</th>\n",
       "    </tr>\n",
       "  </thead>\n",
       "  <tbody>\n",
       "    <tr>\n",
       "      <th>40</th>\n",
       "      <td>0.723518</td>\n",
       "      <td>0.018186</td>\n",
       "      <td>0.752174</td>\n",
       "      <td>0.705359</td>\n",
       "      <td>15.0</td>\n",
       "      <td>2.0</td>\n",
       "      <td>20.0</td>\n",
       "    </tr>\n",
       "    <tr>\n",
       "      <th>49</th>\n",
       "      <td>0.721226</td>\n",
       "      <td>0.016542</td>\n",
       "      <td>0.743649</td>\n",
       "      <td>0.701501</td>\n",
       "      <td>20.0</td>\n",
       "      <td>1.0</td>\n",
       "      <td>20.0</td>\n",
       "    </tr>\n",
       "    <tr>\n",
       "      <th>37</th>\n",
       "      <td>0.720289</td>\n",
       "      <td>0.014880</td>\n",
       "      <td>0.737415</td>\n",
       "      <td>0.693024</td>\n",
       "      <td>15.0</td>\n",
       "      <td>1.0</td>\n",
       "      <td>20.0</td>\n",
       "    </tr>\n",
       "    <tr>\n",
       "      <th>52</th>\n",
       "      <td>0.719930</td>\n",
       "      <td>0.011988</td>\n",
       "      <td>0.736100</td>\n",
       "      <td>0.702729</td>\n",
       "      <td>20.0</td>\n",
       "      <td>2.0</td>\n",
       "      <td>20.0</td>\n",
       "    </tr>\n",
       "    <tr>\n",
       "      <th>57</th>\n",
       "      <td>0.719100</td>\n",
       "      <td>0.031235</td>\n",
       "      <td>0.749120</td>\n",
       "      <td>0.660695</td>\n",
       "      <td>20.0</td>\n",
       "      <td>5.0</td>\n",
       "      <td>10.0</td>\n",
       "    </tr>\n",
       "  </tbody>\n",
       "</table>\n",
       "</div>"
      ],
      "text/plain": [
       "    mean_score  std_score  max_score  min_score  knn__n_neighbors  knn__p  \\\n",
       "40    0.723518   0.018186   0.752174   0.705359              15.0     2.0   \n",
       "49    0.721226   0.016542   0.743649   0.701501              20.0     1.0   \n",
       "37    0.720289   0.014880   0.737415   0.693024              15.0     1.0   \n",
       "52    0.719930   0.011988   0.736100   0.702729              20.0     2.0   \n",
       "57    0.719100   0.031235   0.749120   0.660695              20.0     5.0   \n",
       "\n",
       "    rfi_fs__n_features_  \n",
       "40                 20.0  \n",
       "49                 20.0  \n",
       "37                 20.0  \n",
       "52                 20.0  \n",
       "57                 10.0  "
      ]
     },
     "execution_count": 74,
     "metadata": {},
     "output_type": "execute_result"
    }
   ],
   "source": [
    "results_KNN = get_search_results(gs_pipe_KNN)\n",
    "results_KNN.head()"
   ]
  },
  {
   "cell_type": "markdown",
   "metadata": {},
   "source": [
    "The results show not much of a difference, 4 combinations show 20 features and the fifth best combination uses only 10 features which can be a good thing if we don't want to deal with many features. "
   ]
  },
  {
   "cell_type": "code",
   "execution_count": 75,
   "metadata": {},
   "outputs": [
    {
     "data": {
      "text/html": [
       "\n",
       "<div id=\"altair-viz-345bf17b1dd24fedbe08d29697aeb3ed\"></div>\n",
       "<script type=\"text/javascript\">\n",
       "  (function(spec, embedOpt){\n",
       "    let outputDiv = document.currentScript.previousElementSibling;\n",
       "    if (outputDiv.id !== \"altair-viz-345bf17b1dd24fedbe08d29697aeb3ed\") {\n",
       "      outputDiv = document.getElementById(\"altair-viz-345bf17b1dd24fedbe08d29697aeb3ed\");\n",
       "    }\n",
       "    const paths = {\n",
       "      \"vega\": \"https://cdn.jsdelivr.net/npm//vega@5?noext\",\n",
       "      \"vega-lib\": \"https://cdn.jsdelivr.net/npm//vega-lib?noext\",\n",
       "      \"vega-lite\": \"https://cdn.jsdelivr.net/npm//vega-lite@4.8.1?noext\",\n",
       "      \"vega-embed\": \"https://cdn.jsdelivr.net/npm//vega-embed@6?noext\",\n",
       "    };\n",
       "\n",
       "    function loadScript(lib) {\n",
       "      return new Promise(function(resolve, reject) {\n",
       "        var s = document.createElement('script');\n",
       "        s.src = paths[lib];\n",
       "        s.async = true;\n",
       "        s.onload = () => resolve(paths[lib]);\n",
       "        s.onerror = () => reject(`Error loading script: ${paths[lib]}`);\n",
       "        document.getElementsByTagName(\"head\")[0].appendChild(s);\n",
       "      });\n",
       "    }\n",
       "\n",
       "    function showError(err) {\n",
       "      outputDiv.innerHTML = `<div class=\"error\" style=\"color:red;\">${err}</div>`;\n",
       "      throw err;\n",
       "    }\n",
       "\n",
       "    function displayChart(vegaEmbed) {\n",
       "      vegaEmbed(outputDiv, spec, embedOpt)\n",
       "        .catch(err => showError(`Javascript Error: ${err.message}<br>This usually means there's a typo in your chart specification. See the javascript console for the full traceback.`));\n",
       "    }\n",
       "\n",
       "    if(typeof define === \"function\" && define.amd) {\n",
       "      requirejs.config({paths});\n",
       "      require([\"vega-embed\"], displayChart, err => showError(`Error loading script: ${err.message}`));\n",
       "    } else if (typeof vegaEmbed === \"function\") {\n",
       "      displayChart(vegaEmbed);\n",
       "    } else {\n",
       "      loadScript(\"vega\")\n",
       "        .then(() => loadScript(\"vega-lite\"))\n",
       "        .then(() => loadScript(\"vega-embed\"))\n",
       "        .catch(showError)\n",
       "        .then(() => displayChart(vegaEmbed));\n",
       "    }\n",
       "  })({\"config\": {\"view\": {\"continuousWidth\": 400, \"continuousHeight\": 300}}, \"data\": {\"name\": \"data-f34534b07cd1d2e87ba304778ef074f7\"}, \"mark\": {\"type\": \"line\", \"point\": true}, \"encoding\": {\"color\": {\"type\": \"nominal\", \"field\": \"knn__p\", \"title\": \"p\"}, \"x\": {\"type\": \"quantitative\", \"field\": \"knn__n_neighbors\", \"title\": \"Number of Neighbors\"}, \"y\": {\"type\": \"quantitative\", \"field\": \"mean_score\", \"scale\": {\"zero\": false}, \"title\": \"AUC Score\"}}, \"title\": \"KNN Performance Comparison with 20 Features\", \"$schema\": \"https://vega.github.io/schema/vega-lite/v4.8.1.json\", \"datasets\": {\"data-f34534b07cd1d2e87ba304778ef074f7\": [{\"mean_score\": 0.7235177760943527, \"std_score\": 0.018185963608455594, \"max_score\": 0.7521736439865094, \"min_score\": 0.7053590767041059, \"knn__n_neighbors\": 15.0, \"knn__p\": 2.0, \"rfi_fs__n_features_\": 20.0}, {\"mean_score\": 0.7212264838565766, \"std_score\": 0.016541904046371462, \"max_score\": 0.7436492465732232, \"min_score\": 0.7015008337965537, \"knn__n_neighbors\": 20.0, \"knn__p\": 1.0, \"rfi_fs__n_features_\": 20.0}, {\"mean_score\": 0.7202886948706132, \"std_score\": 0.014880265738874209, \"max_score\": 0.7374145239642316, \"min_score\": 0.693023902167871, \"knn__n_neighbors\": 15.0, \"knn__p\": 1.0, \"rfi_fs__n_features_\": 20.0}, {\"mean_score\": 0.7199301268171691, \"std_score\": 0.011987978434725972, \"max_score\": 0.7360995080293325, \"min_score\": 0.702729044834308, \"knn__n_neighbors\": 20.0, \"knn__p\": 2.0, \"rfi_fs__n_features_\": 20.0}, {\"mean_score\": 0.7162977253490044, \"std_score\": 0.021587417156185604, \"max_score\": 0.7518642284724155, \"min_score\": 0.6880318079148489, \"knn__n_neighbors\": 20.0, \"knn__p\": 3.0, \"rfi_fs__n_features_\": 20.0}, {\"mean_score\": 0.7162561778321422, \"std_score\": 0.023985852900124224, \"max_score\": 0.7543550233608713, \"min_score\": 0.6903214827191435, \"knn__n_neighbors\": 15.0, \"knn__p\": 3.0, \"rfi_fs__n_features_\": 20.0}, {\"mean_score\": 0.7093577972273118, \"std_score\": 0.025017620503836015, \"max_score\": 0.737692997926916, \"min_score\": 0.6758847507874746, \"knn__n_neighbors\": 10.0, \"knn__p\": 2.0, \"rfi_fs__n_features_\": 20.0}, {\"mean_score\": 0.7036717565706854, \"std_score\": 0.023306502569339114, \"max_score\": 0.735016553730004, \"min_score\": 0.6703022989572698, \"knn__n_neighbors\": 15.0, \"knn__p\": 5.0, \"rfi_fs__n_features_\": 20.0}, {\"mean_score\": 0.7026972384131115, \"std_score\": 0.01142417162138729, \"max_score\": 0.7213558587827593, \"min_score\": 0.6925143598295349, \"knn__n_neighbors\": 10.0, \"knn__p\": 1.0, \"rfi_fs__n_features_\": 20.0}, {\"mean_score\": 0.7002577429539345, \"std_score\": 0.02375208960301187, \"max_score\": 0.7266313932980599, \"min_score\": 0.6628682601445247, \"knn__n_neighbors\": 10.0, \"knn__p\": 3.0, \"rfi_fs__n_features_\": 20.0}, {\"mean_score\": 0.6990321381888213, \"std_score\": 0.01975646131155724, \"max_score\": 0.7294161329249048, \"min_score\": 0.6702404158544509, \"knn__n_neighbors\": 20.0, \"knn__p\": 5.0, \"rfi_fs__n_features_\": 20.0}, {\"mean_score\": 0.6918150216047577, \"std_score\": 0.02183442295034814, \"max_score\": 0.7201646090534979, \"min_score\": 0.6535729726391204, \"knn__n_neighbors\": 10.0, \"knn__p\": 5.0, \"rfi_fs__n_features_\": 20.0}, {\"mean_score\": 0.6537202582238008, \"std_score\": 0.012544672371791816, \"max_score\": 0.6716791979949874, \"min_score\": 0.6371291342412451, \"knn__n_neighbors\": 5.0, \"knn__p\": 1.0, \"rfi_fs__n_features_\": 20.0}, {\"mean_score\": 0.6535739604436345, \"std_score\": 0.028032202979056717, \"max_score\": 0.6857266623348496, \"min_score\": 0.61545839908413, \"knn__n_neighbors\": 5.0, \"knn__p\": 3.0, \"rfi_fs__n_features_\": 20.0}, {\"mean_score\": 0.6502265804586285, \"std_score\": 0.02212533980105427, \"max_score\": 0.6815340821188774, \"min_score\": 0.6208267582536589, \"knn__n_neighbors\": 5.0, \"knn__p\": 2.0, \"rfi_fs__n_features_\": 20.0}, {\"mean_score\": 0.6411758960942672, \"std_score\": 0.03281092458788364, \"max_score\": 0.6941118227667935, \"min_score\": 0.5993585846303502, \"knn__n_neighbors\": 5.0, \"knn__p\": 5.0, \"rfi_fs__n_features_\": 20.0}, {\"mean_score\": 0.5779666754976504, \"std_score\": 0.018549865255554222, \"max_score\": 0.5953461799765302, \"min_score\": 0.5441391050583658, \"knn__n_neighbors\": 1.0, \"knn__p\": 1.0, \"rfi_fs__n_features_\": 20.0}, {\"mean_score\": 0.5703975049897766, \"std_score\": 0.020990200026774115, \"max_score\": 0.5988582567529935, \"min_score\": 0.5399450311901673, \"knn__n_neighbors\": 1.0, \"knn__p\": 2.0, \"rfi_fs__n_features_\": 20.0}, {\"mean_score\": 0.5686393147265051, \"std_score\": 0.018844076340323368, \"max_score\": 0.5969089390142022, \"min_score\": 0.5451118677042801, \"knn__n_neighbors\": 1.0, \"knn__p\": 3.0, \"rfi_fs__n_features_\": 20.0}, {\"mean_score\": 0.564680042423937, \"std_score\": 0.018793012390347835, \"max_score\": 0.5959342801448064, \"min_score\": 0.5392448929961089, \"knn__n_neighbors\": 1.0, \"knn__p\": 5.0, \"rfi_fs__n_features_\": 20.0}]}}, {\"mode\": \"vega-lite\"});\n",
       "</script>"
      ],
      "text/plain": [
       "alt.Chart(...)"
      ]
     },
     "execution_count": 75,
     "metadata": {},
     "output_type": "execute_result"
    }
   ],
   "source": [
    "import altair as alt\n",
    "\n",
    "results_KNN_20_features = results_KNN[results_KNN['rfi_fs__n_features_'] == 20.0]\n",
    "\n",
    "alt.Chart(results_KNN_20_features, \n",
    "          title='KNN Performance Comparison with 20 Features'\n",
    "         ).mark_line(point=True).encode(\n",
    "    alt.X('knn__n_neighbors', title='Number of Neighbors'),\n",
    "    alt.Y('mean_score', title='AUC Score', scale=alt.Scale(zero=False)),\n",
    "    alt.Color('knn__p:N', title='p')\n",
    ")"
   ]
  },
  {
   "cell_type": "markdown",
   "metadata": {},
   "source": [
    "The above plot shows the KNN performance using 20 features. "
   ]
  },
  {
   "cell_type": "markdown",
   "metadata": {},
   "source": [
    "## Naive Bayes (NB)"
   ]
  },
  {
   "cell_type": "markdown",
   "metadata": {},
   "source": [
    "This section is about Naive Bayes Classifier. The hyperparameter that we focus here is called **var_smoothing**. Here we do a randomized search (to save time) over the logspace as the default value for var_smoothing is -9th power of 10. \n"
   ]
  },
  {
   "cell_type": "code",
   "execution_count": 76,
   "metadata": {},
   "outputs": [],
   "source": [
    "from sklearn.preprocessing import PowerTransformer\n",
    "D_train_transformed = PowerTransformer().fit_transform(D_train)"
   ]
  },
  {
   "cell_type": "code",
   "execution_count": 77,
   "metadata": {},
   "outputs": [],
   "source": [
    "#?GaussianNB"
   ]
  },
  {
   "cell_type": "code",
   "execution_count": 78,
   "metadata": {},
   "outputs": [
    {
     "name": "stdout",
     "output_type": "stream",
     "text": [
      "Fitting 5 folds for each of 30 candidates, totalling 150 fits\n"
     ]
    },
    {
     "name": "stderr",
     "output_type": "stream",
     "text": [
      "[Parallel(n_jobs=-2)]: Using backend LokyBackend with 7 concurrent workers.\n",
      "[Parallel(n_jobs=-2)]: Done  36 tasks      | elapsed:    2.0s\n",
      "[Parallel(n_jobs=-2)]: Done 150 out of 150 | elapsed:    7.6s finished\n"
     ]
    }
   ],
   "source": [
    "from sklearn.naive_bayes import GaussianNB\n",
    "from sklearn.model_selection import RandomizedSearchCV\n",
    "np.random.seed(999)\n",
    "pipe_NB = Pipeline([('rfi_fs', RFIFeatureSelector()), \n",
    "                     ('nb', GaussianNB())])\n",
    "\n",
    "params_pipe_NB = {'rfi_fs__n_features_': [10, 20, Data.shape[1]],\n",
    "                  'nb__var_smoothing': np.logspace(1,-5, num=200)}\n",
    "\n",
    "n_iter_search = 30\n",
    "gs_pipe_NB = RandomizedSearchCV(estimator=pipe_NB, \n",
    "                          param_distributions=params_pipe_NB, \n",
    "                          cv=cv_method,\n",
    "                          refit=True,\n",
    "                          n_jobs=-2,\n",
    "                          scoring='roc_auc',\n",
    "                          n_iter=n_iter_search,\n",
    "                          verbose=1) \n",
    "\n",
    "gs_pipe_NB.fit(D_train_transformed, t_train);"
   ]
  },
  {
   "cell_type": "code",
   "execution_count": 79,
   "metadata": {},
   "outputs": [
    {
     "data": {
      "text/plain": [
       "{'rfi_fs__n_features_': 10, 'nb__var_smoothing': 0.014649713983072863}"
      ]
     },
     "execution_count": 79,
     "metadata": {},
     "output_type": "execute_result"
    }
   ],
   "source": [
    "gs_pipe_NB.best_params_"
   ]
  },
  {
   "cell_type": "code",
   "execution_count": 80,
   "metadata": {},
   "outputs": [
    {
     "data": {
      "text/plain": [
       "0.7466325754405028"
      ]
     },
     "execution_count": 80,
     "metadata": {},
     "output_type": "execute_result"
    }
   ],
   "source": [
    "gs_pipe_NB.best_score_"
   ]
  },
  {
   "cell_type": "markdown",
   "metadata": {},
   "source": [
    "The best combination is given with only 10 features and the best score comes to 74% which seems better than KNN at first glance. "
   ]
  },
  {
   "cell_type": "code",
   "execution_count": 81,
   "metadata": {},
   "outputs": [
    {
     "data": {
      "text/html": [
       "<div>\n",
       "<style scoped>\n",
       "    .dataframe tbody tr th:only-of-type {\n",
       "        vertical-align: middle;\n",
       "    }\n",
       "\n",
       "    .dataframe tbody tr th {\n",
       "        vertical-align: top;\n",
       "    }\n",
       "\n",
       "    .dataframe thead th {\n",
       "        text-align: right;\n",
       "    }\n",
       "</style>\n",
       "<table border=\"1\" class=\"dataframe\">\n",
       "  <thead>\n",
       "    <tr style=\"text-align: right;\">\n",
       "      <th></th>\n",
       "      <th>mean_score</th>\n",
       "      <th>std_score</th>\n",
       "      <th>max_score</th>\n",
       "      <th>min_score</th>\n",
       "      <th>rfi_fs__n_features_</th>\n",
       "      <th>nb__var_smoothing</th>\n",
       "    </tr>\n",
       "  </thead>\n",
       "  <tbody>\n",
       "    <tr>\n",
       "      <th>7</th>\n",
       "      <td>0.746628</td>\n",
       "      <td>0.014073</td>\n",
       "      <td>0.768591</td>\n",
       "      <td>0.729478</td>\n",
       "      <td>10.0</td>\n",
       "      <td>0.014650</td>\n",
       "    </tr>\n",
       "    <tr>\n",
       "      <th>25</th>\n",
       "      <td>0.746594</td>\n",
       "      <td>0.014074</td>\n",
       "      <td>0.768575</td>\n",
       "      <td>0.729308</td>\n",
       "      <td>10.0</td>\n",
       "      <td>0.000065</td>\n",
       "    </tr>\n",
       "    <tr>\n",
       "      <th>6</th>\n",
       "      <td>0.746594</td>\n",
       "      <td>0.014074</td>\n",
       "      <td>0.768575</td>\n",
       "      <td>0.729308</td>\n",
       "      <td>10.0</td>\n",
       "      <td>0.000037</td>\n",
       "    </tr>\n",
       "    <tr>\n",
       "      <th>21</th>\n",
       "      <td>0.746585</td>\n",
       "      <td>0.014082</td>\n",
       "      <td>0.768575</td>\n",
       "      <td>0.729292</td>\n",
       "      <td>10.0</td>\n",
       "      <td>0.000161</td>\n",
       "    </tr>\n",
       "    <tr>\n",
       "      <th>19</th>\n",
       "      <td>0.746576</td>\n",
       "      <td>0.014046</td>\n",
       "      <td>0.768467</td>\n",
       "      <td>0.729308</td>\n",
       "      <td>10.0</td>\n",
       "      <td>0.000793</td>\n",
       "    </tr>\n",
       "  </tbody>\n",
       "</table>\n",
       "</div>"
      ],
      "text/plain": [
       "    mean_score  std_score  max_score  min_score  rfi_fs__n_features_  \\\n",
       "7     0.746628   0.014073   0.768591   0.729478                 10.0   \n",
       "25    0.746594   0.014074   0.768575   0.729308                 10.0   \n",
       "6     0.746594   0.014074   0.768575   0.729308                 10.0   \n",
       "21    0.746585   0.014082   0.768575   0.729292                 10.0   \n",
       "19    0.746576   0.014046   0.768467   0.729308                 10.0   \n",
       "\n",
       "    nb__var_smoothing  \n",
       "7            0.014650  \n",
       "25           0.000065  \n",
       "6            0.000037  \n",
       "21           0.000161  \n",
       "19           0.000793  "
      ]
     },
     "execution_count": 81,
     "metadata": {},
     "output_type": "execute_result"
    }
   ],
   "source": [
    "results_NB = get_search_results(gs_pipe_NB)\n",
    "results_NB.head()"
   ]
  },
  {
   "cell_type": "code",
   "execution_count": 82,
   "metadata": {
    "scrolled": false
   },
   "outputs": [
    {
     "data": {
      "text/html": [
       "\n",
       "<div id=\"altair-viz-14890240119640e7bb6e0aa7544ecbee\"></div>\n",
       "<script type=\"text/javascript\">\n",
       "  (function(spec, embedOpt){\n",
       "    let outputDiv = document.currentScript.previousElementSibling;\n",
       "    if (outputDiv.id !== \"altair-viz-14890240119640e7bb6e0aa7544ecbee\") {\n",
       "      outputDiv = document.getElementById(\"altair-viz-14890240119640e7bb6e0aa7544ecbee\");\n",
       "    }\n",
       "    const paths = {\n",
       "      \"vega\": \"https://cdn.jsdelivr.net/npm//vega@5?noext\",\n",
       "      \"vega-lib\": \"https://cdn.jsdelivr.net/npm//vega-lib?noext\",\n",
       "      \"vega-lite\": \"https://cdn.jsdelivr.net/npm//vega-lite@4.8.1?noext\",\n",
       "      \"vega-embed\": \"https://cdn.jsdelivr.net/npm//vega-embed@6?noext\",\n",
       "    };\n",
       "\n",
       "    function loadScript(lib) {\n",
       "      return new Promise(function(resolve, reject) {\n",
       "        var s = document.createElement('script');\n",
       "        s.src = paths[lib];\n",
       "        s.async = true;\n",
       "        s.onload = () => resolve(paths[lib]);\n",
       "        s.onerror = () => reject(`Error loading script: ${paths[lib]}`);\n",
       "        document.getElementsByTagName(\"head\")[0].appendChild(s);\n",
       "      });\n",
       "    }\n",
       "\n",
       "    function showError(err) {\n",
       "      outputDiv.innerHTML = `<div class=\"error\" style=\"color:red;\">${err}</div>`;\n",
       "      throw err;\n",
       "    }\n",
       "\n",
       "    function displayChart(vegaEmbed) {\n",
       "      vegaEmbed(outputDiv, spec, embedOpt)\n",
       "        .catch(err => showError(`Javascript Error: ${err.message}<br>This usually means there's a typo in your chart specification. See the javascript console for the full traceback.`));\n",
       "    }\n",
       "\n",
       "    if(typeof define === \"function\" && define.amd) {\n",
       "      requirejs.config({paths});\n",
       "      require([\"vega-embed\"], displayChart, err => showError(`Error loading script: ${err.message}`));\n",
       "    } else if (typeof vegaEmbed === \"function\") {\n",
       "      displayChart(vegaEmbed);\n",
       "    } else {\n",
       "      loadScript(\"vega\")\n",
       "        .then(() => loadScript(\"vega-lite\"))\n",
       "        .then(() => loadScript(\"vega-embed\"))\n",
       "        .catch(showError)\n",
       "        .then(() => displayChart(vegaEmbed));\n",
       "    }\n",
       "  })({\"config\": {\"view\": {\"continuousWidth\": 400, \"continuousHeight\": 300}}, \"data\": {\"name\": \"data-fe73977e59686a20cd24ef582fda477f\"}, \"mark\": {\"type\": \"line\", \"point\": true}, \"encoding\": {\"x\": {\"type\": \"quantitative\", \"field\": \"nb__var_smoothing\", \"title\": \"Var. Smoothing\"}, \"y\": {\"type\": \"quantitative\", \"field\": \"mean_score\", \"scale\": {\"zero\": false}, \"title\": \"AUC Score\"}}, \"title\": \"NB Performance Comparison with 10 Features\", \"$schema\": \"https://vega.github.io/schema/vega-lite/v4.8.1.json\", \"datasets\": {\"data-fe73977e59686a20cd24ef582fda477f\": [{\"mean_score\": 0.7466280696584919, \"std_score\": 0.014073258499862495, \"max_score\": 0.7685905750108085, \"min_score\": 0.7294780160277237, \"rfi_fs__n_features_\": 10.0, \"nb__var_smoothing\": 0.014649713983072863}, {\"mean_score\": 0.7465940399716986, \"std_score\": 0.014073517016774006, \"max_score\": 0.7685751343338891, \"min_score\": 0.729307837494972, \"rfi_fs__n_features_\": 10.0, \"nb__var_smoothing\": 6.517339604882433e-05}, {\"mean_score\": 0.7465940399716986, \"std_score\": 0.014073517016774006, \"max_score\": 0.7685751343338891, \"min_score\": 0.729307837494972, \"rfi_fs__n_features_\": 10.0, \"nb__var_smoothing\": 3.739937302478802e-05}, {\"mean_score\": 0.7465847575062758, \"std_score\": 0.01408164266561038, \"max_score\": 0.7685751343338891, \"min_score\": 0.7292923667192673, \"rfi_fs__n_features_\": 10.0, \"nb__var_smoothing\": 0.00016070528182616383}, {\"mean_score\": 0.7465755171791526, \"std_score\": 0.014046183153926304, \"max_score\": 0.7684670495954542, \"min_score\": 0.729307837494972, \"rfi_fs__n_features_\": 10.0, \"nb__var_smoothing\": 0.0007934096665797492}, {\"mean_score\": 0.7465693228491137, \"std_score\": 0.014054258793102486, \"max_score\": 0.7684824902723735, \"min_score\": 0.7293387790463813, \"rfi_fs__n_features_\": 10.0, \"nb__var_smoothing\": 0.0014820207057988585}, {\"mean_score\": 0.746448759342362, \"std_score\": 0.01428229286339647, \"max_score\": 0.7684824902723736, \"min_score\": 0.728952009653764, \"rfi_fs__n_features_\": 10.0, \"nb__var_smoothing\": 0.0890735463861044}, {\"mean_score\": 0.7461394642234097, \"std_score\": 0.014671919381639828, \"max_score\": 0.7681736767339881, \"min_score\": 0.7288282434481265, \"rfi_fs__n_features_\": 10.0, \"nb__var_smoothing\": 0.28994228538828765}]}}, {\"mode\": \"vega-lite\"});\n",
       "</script>"
      ],
      "text/plain": [
       "alt.Chart(...)"
      ]
     },
     "execution_count": 82,
     "metadata": {},
     "output_type": "execute_result"
    }
   ],
   "source": [
    "results_NB_10_features = results_NB[results_NB['rfi_fs__n_features_'] == 10.0]\n",
    "\n",
    "alt.Chart(results_NB_10_features, \n",
    "          title='NB Performance Comparison with 10 Features'\n",
    "         ).mark_line(point=True).encode(\n",
    "    alt.X('nb__var_smoothing', title='Var. Smoothing'),\n",
    "    alt.Y('mean_score', title='AUC Score', scale=alt.Scale(zero=False))\n",
    ")"
   ]
  },
  {
   "cell_type": "markdown",
   "metadata": {},
   "source": [
    "## Decision Tree (DT) \n",
    "The decision tree classifier we build here is based on the split criterion gini index. We shall use 10, 20 or all the features to come up with combinations for different \n",
    "- maximum depth \n",
    "- minimum sample split\n"
   ]
  },
  {
   "cell_type": "code",
   "execution_count": 83,
   "metadata": {},
   "outputs": [
    {
     "name": "stdout",
     "output_type": "stream",
     "text": [
      "Fitting 5 folds for each of 60 candidates, totalling 300 fits\n"
     ]
    },
    {
     "name": "stderr",
     "output_type": "stream",
     "text": [
      "[Parallel(n_jobs=-2)]: Using backend LokyBackend with 7 concurrent workers.\n",
      "[Parallel(n_jobs=-2)]: Done  36 tasks      | elapsed:    2.0s\n",
      "[Parallel(n_jobs=-2)]: Done 186 tasks      | elapsed:    9.5s\n",
      "[Parallel(n_jobs=-2)]: Done 300 out of 300 | elapsed:   15.3s finished\n"
     ]
    }
   ],
   "source": [
    "from sklearn.tree import DecisionTreeClassifier\n",
    "\n",
    "pipe_DT2 = Pipeline([('rfi_fs', RFIFeatureSelector()),\n",
    "                    ('dt', DecisionTreeClassifier(criterion='gini', random_state=111))])\n",
    "\n",
    "params_pipe_DT2 = {'rfi_fs__n_features_': [10, 20, Data.shape[1]],\n",
    "                  'dt__max_depth': [3, 4, 5,10],\n",
    "                  'dt__min_samples_split': [5, 50, 100, 150,180]}\n",
    "\n",
    "gs_pipe_DT2 = GridSearchCV(estimator=pipe_DT2, \n",
    "                          param_grid=params_pipe_DT2, \n",
    "                          cv=cv_method,\n",
    "                          refit=True,\n",
    "                          n_jobs=-2,\n",
    "                          scoring='roc_auc',\n",
    "                          verbose=1) \n",
    "\n",
    "gs_pipe_DT2.fit(D_train, t_train);"
   ]
  },
  {
   "cell_type": "code",
   "execution_count": 84,
   "metadata": {},
   "outputs": [
    {
     "data": {
      "text/plain": [
       "{'dt__max_depth': 10, 'dt__min_samples_split': 100, 'rfi_fs__n_features_': 45}"
      ]
     },
     "execution_count": 84,
     "metadata": {},
     "output_type": "execute_result"
    }
   ],
   "source": [
    "gs_pipe_DT2.best_params_"
   ]
  },
  {
   "cell_type": "code",
   "execution_count": 85,
   "metadata": {},
   "outputs": [
    {
     "data": {
      "text/plain": [
       "0.7583459039696969"
      ]
     },
     "execution_count": 85,
     "metadata": {},
     "output_type": "execute_result"
    }
   ],
   "source": [
    "gs_pipe_DT2.best_score_"
   ]
  },
  {
   "cell_type": "code",
   "execution_count": 86,
   "metadata": {},
   "outputs": [
    {
     "data": {
      "text/html": [
       "\n",
       "<div id=\"altair-viz-798fb23f778147859d6c72e3c776d13d\"></div>\n",
       "<script type=\"text/javascript\">\n",
       "  (function(spec, embedOpt){\n",
       "    let outputDiv = document.currentScript.previousElementSibling;\n",
       "    if (outputDiv.id !== \"altair-viz-798fb23f778147859d6c72e3c776d13d\") {\n",
       "      outputDiv = document.getElementById(\"altair-viz-798fb23f778147859d6c72e3c776d13d\");\n",
       "    }\n",
       "    const paths = {\n",
       "      \"vega\": \"https://cdn.jsdelivr.net/npm//vega@5?noext\",\n",
       "      \"vega-lib\": \"https://cdn.jsdelivr.net/npm//vega-lib?noext\",\n",
       "      \"vega-lite\": \"https://cdn.jsdelivr.net/npm//vega-lite@4.8.1?noext\",\n",
       "      \"vega-embed\": \"https://cdn.jsdelivr.net/npm//vega-embed@6?noext\",\n",
       "    };\n",
       "\n",
       "    function loadScript(lib) {\n",
       "      return new Promise(function(resolve, reject) {\n",
       "        var s = document.createElement('script');\n",
       "        s.src = paths[lib];\n",
       "        s.async = true;\n",
       "        s.onload = () => resolve(paths[lib]);\n",
       "        s.onerror = () => reject(`Error loading script: ${paths[lib]}`);\n",
       "        document.getElementsByTagName(\"head\")[0].appendChild(s);\n",
       "      });\n",
       "    }\n",
       "\n",
       "    function showError(err) {\n",
       "      outputDiv.innerHTML = `<div class=\"error\" style=\"color:red;\">${err}</div>`;\n",
       "      throw err;\n",
       "    }\n",
       "\n",
       "    function displayChart(vegaEmbed) {\n",
       "      vegaEmbed(outputDiv, spec, embedOpt)\n",
       "        .catch(err => showError(`Javascript Error: ${err.message}<br>This usually means there's a typo in your chart specification. See the javascript console for the full traceback.`));\n",
       "    }\n",
       "\n",
       "    if(typeof define === \"function\" && define.amd) {\n",
       "      requirejs.config({paths});\n",
       "      require([\"vega-embed\"], displayChart, err => showError(`Error loading script: ${err.message}`));\n",
       "    } else if (typeof vegaEmbed === \"function\") {\n",
       "      displayChart(vegaEmbed);\n",
       "    } else {\n",
       "      loadScript(\"vega\")\n",
       "        .then(() => loadScript(\"vega-lite\"))\n",
       "        .then(() => loadScript(\"vega-embed\"))\n",
       "        .catch(showError)\n",
       "        .then(() => displayChart(vegaEmbed));\n",
       "    }\n",
       "  })({\"config\": {\"view\": {\"continuousWidth\": 400, \"continuousHeight\": 300}}, \"data\": {\"name\": \"data-cdc053f1779b53004959cb4f3ee3bcbe\"}, \"mark\": {\"type\": \"line\", \"point\": true}, \"encoding\": {\"color\": {\"type\": \"nominal\", \"field\": \"dt__max_depth\", \"title\": \"Max Depth\"}, \"x\": {\"type\": \"quantitative\", \"field\": \"dt__min_samples_split\", \"title\": \"Min Samples for Split\"}, \"y\": {\"type\": \"quantitative\", \"field\": \"mean_score\", \"scale\": {\"zero\": false}, \"title\": \"AUC Score\"}}, \"title\": \"DT Performance Comparison with 45 Features\", \"$schema\": \"https://vega.github.io/schema/vega-lite/v4.8.1.json\", \"datasets\": {\"data-cdc053f1779b53004959cb4f3ee3bcbe\": [{\"mean_score\": 0.7583388372724817, \"std_score\": 0.03338159480423886, \"max_score\": 0.7950895757913303, \"min_score\": 0.7121507472384666, \"dt__max_depth\": 10.0, \"dt__min_samples_split\": 100.0, \"rfi_fs__n_features_\": 45.0}, {\"mean_score\": 0.7533176766223818, \"std_score\": 0.027340037617372158, \"max_score\": 0.7845694483121385, \"min_score\": 0.7068906834988706, \"dt__max_depth\": 10.0, \"dt__min_samples_split\": 150.0, \"rfi_fs__n_features_\": 45.0}, {\"mean_score\": 0.7523265687667553, \"std_score\": 0.02635742864096014, \"max_score\": 0.7810730530028777, \"min_score\": 0.7068906834988706, \"dt__max_depth\": 10.0, \"dt__min_samples_split\": 180.0, \"rfi_fs__n_features_\": 45.0}, {\"mean_score\": 0.7450212888897377, \"std_score\": 0.03306019562356971, \"max_score\": 0.7750942363813229, \"min_score\": 0.6813639035861258, \"dt__max_depth\": 5.0, \"dt__min_samples_split\": 180.0, \"rfi_fs__n_features_\": 45.0}, {\"mean_score\": 0.7449328766233931, \"std_score\": 0.03322114488835739, \"max_score\": 0.7741366731517509, \"min_score\": 0.6813639035861258, \"dt__max_depth\": 5.0, \"dt__min_samples_split\": 100.0, \"rfi_fs__n_features_\": 45.0}, {\"mean_score\": 0.7448297762438234, \"std_score\": 0.0328877567424986, \"max_score\": 0.7741366731517509, \"min_score\": 0.6813639035861258, \"dt__max_depth\": 5.0, \"dt__min_samples_split\": 150.0, \"rfi_fs__n_features_\": 45.0}, {\"mean_score\": 0.7440507801725575, \"std_score\": 0.03282782062073369, \"max_score\": 0.7717655642023346, \"min_score\": 0.6811782542776694, \"dt__max_depth\": 5.0, \"dt__min_samples_split\": 50.0, \"rfi_fs__n_features_\": 45.0}, {\"mean_score\": 0.7339059901910467, \"std_score\": 0.024847162351636098, \"max_score\": 0.751895170023825, \"min_score\": 0.6847674742411585, \"dt__max_depth\": 4.0, \"dt__min_samples_split\": 180.0, \"rfi_fs__n_features_\": 45.0}, {\"mean_score\": 0.7339059901910467, \"std_score\": 0.024847162351636098, \"max_score\": 0.751895170023825, \"min_score\": 0.6847674742411585, \"dt__max_depth\": 4.0, \"dt__min_samples_split\": 150.0, \"rfi_fs__n_features_\": 45.0}, {\"mean_score\": 0.733863641199964, \"std_score\": 0.02508952563406772, \"max_score\": 0.7541693740524149, \"min_score\": 0.6847674742411585, \"dt__max_depth\": 4.0, \"dt__min_samples_split\": 100.0, \"rfi_fs__n_features_\": 45.0}, {\"mean_score\": 0.7333789010132816, \"std_score\": 0.02492649989571917, \"max_score\": 0.7534731891457038, \"min_score\": 0.684581824932702, \"dt__max_depth\": 4.0, \"dt__min_samples_split\": 50.0, \"rfi_fs__n_features_\": 45.0}, {\"mean_score\": 0.7322555559310379, \"std_score\": 0.043725893960539663, \"max_score\": 0.7907887001454253, \"min_score\": 0.6754076549398188, \"dt__max_depth\": 10.0, \"dt__min_samples_split\": 50.0, \"rfi_fs__n_features_\": 45.0}, {\"mean_score\": 0.7302728567580441, \"std_score\": 0.02445246500004213, \"max_score\": 0.7474008998054474, \"min_score\": 0.6822921501284074, \"dt__max_depth\": 3.0, \"dt__min_samples_split\": 180.0, \"rfi_fs__n_features_\": 45.0}, {\"mean_score\": 0.7302728567580441, \"std_score\": 0.02445246500004213, \"max_score\": 0.7474008998054474, \"min_score\": 0.6822921501284074, \"dt__max_depth\": 3.0, \"dt__min_samples_split\": 150.0, \"rfi_fs__n_features_\": 45.0}, {\"mean_score\": 0.7302728567580441, \"std_score\": 0.02445246500004213, \"max_score\": 0.7474008998054474, \"min_score\": 0.6822921501284074, \"dt__max_depth\": 3.0, \"dt__min_samples_split\": 100.0, \"rfi_fs__n_features_\": 45.0}, {\"mean_score\": 0.7300198531400498, \"std_score\": 0.024373451295897464, \"max_score\": 0.7463065418287937, \"min_score\": 0.6821065008199511, \"dt__max_depth\": 3.0, \"dt__min_samples_split\": 50.0, \"rfi_fs__n_features_\": 45.0}, {\"mean_score\": 0.7296435368674905, \"std_score\": 0.025068007051993076, \"max_score\": 0.7468233219844358, \"min_score\": 0.6803737739410254, \"dt__max_depth\": 3.0, \"dt__min_samples_split\": 5.0, \"rfi_fs__n_features_\": 45.0}, {\"mean_score\": 0.7181727610725004, \"std_score\": 0.0402206826052105, \"max_score\": 0.7534422475942945, \"min_score\": 0.6416813639035861, \"dt__max_depth\": 5.0, \"dt__min_samples_split\": 5.0, \"rfi_fs__n_features_\": 45.0}, {\"mean_score\": 0.716853371219728, \"std_score\": 0.03037709694969623, \"max_score\": 0.7446239054426189, \"min_score\": 0.6686778675082768, \"dt__max_depth\": 4.0, \"dt__min_samples_split\": 5.0, \"rfi_fs__n_features_\": 45.0}, {\"mean_score\": 0.6292752911139476, \"std_score\": 0.0420708169031858, \"max_score\": 0.700609548562765, \"min_score\": 0.5745167068124267, \"dt__max_depth\": 10.0, \"dt__min_samples_split\": 5.0, \"rfi_fs__n_features_\": 45.0}]}}, {\"mode\": \"vega-lite\"});\n",
       "</script>"
      ],
      "text/plain": [
       "alt.Chart(...)"
      ]
     },
     "execution_count": 86,
     "metadata": {},
     "output_type": "execute_result"
    }
   ],
   "source": [
    "results_DT2 = get_search_results(gs_pipe_DT2)\n",
    "\n",
    "results_DT2_45_features = results_DT2[results_DT2['rfi_fs__n_features_'] == 45.0]\n",
    "\n",
    "alt.Chart(results_DT2_45_features, \n",
    "          title='DT Performance Comparison with 45 Features'\n",
    "         ).mark_line(point=True).encode(\n",
    "    alt.X('dt__min_samples_split', title='Min Samples for Split'),\n",
    "    alt.Y('mean_score', title='AUC Score', scale=alt.Scale(zero=False)),\n",
    "    alt.Color('dt__max_depth:N', title='Max Depth')\n",
    ")"
   ]
  },
  {
   "cell_type": "markdown",
   "metadata": {},
   "source": [
    "## RANDOM FOREST"
   ]
  },
  {
   "cell_type": "markdown",
   "metadata": {},
   "source": [
    "In this section we use the Random Forest Classifier with 100 estimators using gini or entropy split criterion. Random Forest is like the bigger version of a Decision Tree."
   ]
  },
  {
   "cell_type": "code",
   "execution_count": 87,
   "metadata": {},
   "outputs": [
    {
     "name": "stdout",
     "output_type": "stream",
     "text": [
      "Fitting 5 folds for each of 144 candidates, totalling 720 fits\n"
     ]
    },
    {
     "name": "stderr",
     "output_type": "stream",
     "text": [
      "[Parallel(n_jobs=-2)]: Using backend LokyBackend with 7 concurrent workers.\n",
      "[Parallel(n_jobs=-2)]: Done  36 tasks      | elapsed:    2.9s\n",
      "[Parallel(n_jobs=-2)]: Done 186 tasks      | elapsed:   13.7s\n",
      "[Parallel(n_jobs=-2)]: Done 436 tasks      | elapsed:   38.6s\n",
      "[Parallel(n_jobs=-2)]: Done 720 out of 720 | elapsed:  1.0min finished\n"
     ]
    }
   ],
   "source": [
    "from sklearn.ensemble import RandomForestClassifier\n",
    "\n",
    "pipe_RF = Pipeline([('rfi_fs', RFIFeatureSelector()),\n",
    "                    ('dt', RandomForestClassifier(n_estimators=100, random_state=111))])\n",
    "\n",
    "params_pipe_RF = {'rfi_fs__n_features_': [10, 20, Data.shape[1]],\n",
    "                  'dt__criterion': ['gini','entropy'],\n",
    "                  'dt__max_depth': [1,3, 4,10],\n",
    "                  'dt__min_samples_split': [2, 5,10,50,100,150]}\n",
    "\n",
    "gs_pipe_RF = GridSearchCV(estimator=pipe_RF, \n",
    "                          param_grid=params_pipe_RF, \n",
    "                          cv=cv_method,\n",
    "                          refit=True,\n",
    "                          n_jobs=-2,\n",
    "                          scoring='roc_auc',\n",
    "                          verbose=1) \n",
    "\n",
    "gs_pipe_RF.fit(D_train, t_train);"
   ]
  },
  {
   "cell_type": "code",
   "execution_count": 88,
   "metadata": {
    "scrolled": false
   },
   "outputs": [
    {
     "data": {
      "text/plain": [
       "{'dt__criterion': 'gini',\n",
       " 'dt__max_depth': 4,\n",
       " 'dt__min_samples_split': 100,\n",
       " 'rfi_fs__n_features_': 45}"
      ]
     },
     "execution_count": 88,
     "metadata": {},
     "output_type": "execute_result"
    }
   ],
   "source": [
    "gs_pipe_RF.best_params_"
   ]
  },
  {
   "cell_type": "code",
   "execution_count": 89,
   "metadata": {},
   "outputs": [
    {
     "data": {
      "text/plain": [
       "0.771394038796281"
      ]
     },
     "execution_count": 89,
     "metadata": {},
     "output_type": "execute_result"
    }
   ],
   "source": [
    "gs_pipe_RF.best_score_"
   ]
  },
  {
   "cell_type": "code",
   "execution_count": 90,
   "metadata": {},
   "outputs": [
    {
     "data": {
      "text/html": [
       "\n",
       "<div id=\"altair-viz-d0ccf1ec053f4cff8dcd6e5ce2f53027\"></div>\n",
       "<script type=\"text/javascript\">\n",
       "  (function(spec, embedOpt){\n",
       "    let outputDiv = document.currentScript.previousElementSibling;\n",
       "    if (outputDiv.id !== \"altair-viz-d0ccf1ec053f4cff8dcd6e5ce2f53027\") {\n",
       "      outputDiv = document.getElementById(\"altair-viz-d0ccf1ec053f4cff8dcd6e5ce2f53027\");\n",
       "    }\n",
       "    const paths = {\n",
       "      \"vega\": \"https://cdn.jsdelivr.net/npm//vega@5?noext\",\n",
       "      \"vega-lib\": \"https://cdn.jsdelivr.net/npm//vega-lib?noext\",\n",
       "      \"vega-lite\": \"https://cdn.jsdelivr.net/npm//vega-lite@4.8.1?noext\",\n",
       "      \"vega-embed\": \"https://cdn.jsdelivr.net/npm//vega-embed@6?noext\",\n",
       "    };\n",
       "\n",
       "    function loadScript(lib) {\n",
       "      return new Promise(function(resolve, reject) {\n",
       "        var s = document.createElement('script');\n",
       "        s.src = paths[lib];\n",
       "        s.async = true;\n",
       "        s.onload = () => resolve(paths[lib]);\n",
       "        s.onerror = () => reject(`Error loading script: ${paths[lib]}`);\n",
       "        document.getElementsByTagName(\"head\")[0].appendChild(s);\n",
       "      });\n",
       "    }\n",
       "\n",
       "    function showError(err) {\n",
       "      outputDiv.innerHTML = `<div class=\"error\" style=\"color:red;\">${err}</div>`;\n",
       "      throw err;\n",
       "    }\n",
       "\n",
       "    function displayChart(vegaEmbed) {\n",
       "      vegaEmbed(outputDiv, spec, embedOpt)\n",
       "        .catch(err => showError(`Javascript Error: ${err.message}<br>This usually means there's a typo in your chart specification. See the javascript console for the full traceback.`));\n",
       "    }\n",
       "\n",
       "    if(typeof define === \"function\" && define.amd) {\n",
       "      requirejs.config({paths});\n",
       "      require([\"vega-embed\"], displayChart, err => showError(`Error loading script: ${err.message}`));\n",
       "    } else if (typeof vegaEmbed === \"function\") {\n",
       "      displayChart(vegaEmbed);\n",
       "    } else {\n",
       "      loadScript(\"vega\")\n",
       "        .then(() => loadScript(\"vega-lite\"))\n",
       "        .then(() => loadScript(\"vega-embed\"))\n",
       "        .catch(showError)\n",
       "        .then(() => displayChart(vegaEmbed));\n",
       "    }\n",
       "  })({\"config\": {\"view\": {\"continuousWidth\": 400, \"continuousHeight\": 300}}, \"data\": {\"name\": \"data-f90ed51a35392f691f6dbc1221f789af\"}, \"mark\": {\"type\": \"line\", \"point\": true}, \"encoding\": {\"color\": {\"type\": \"nominal\", \"field\": \"dt__max_depth\", \"title\": \"Max Depth\"}, \"x\": {\"type\": \"quantitative\", \"field\": \"dt__min_samples_split\", \"title\": \"Min Samples for Split\"}, \"y\": {\"type\": \"quantitative\", \"field\": \"mean_score\", \"scale\": {\"zero\": false}, \"title\": \"AUC Score\"}}, \"title\": \"RF Performance Comparison with 45 Features\", \"$schema\": \"https://vega.github.io/schema/vega-lite/v4.8.1.json\", \"datasets\": {\"data-f90ed51a35392f691f6dbc1221f789af\": [{\"mean_score\": 0.771377749535335, \"std_score\": 0.03638115980950759, \"max_score\": 0.8062130635230051, \"min_score\": 0.7013057334694761, \"dt__criterion\": \"gini\", \"dt__max_depth\": 4, \"dt__min_samples_split\": 100, \"rfi_fs__n_features_\": 45}, {\"mean_score\": 0.7710506137375612, \"std_score\": 0.03719395651964582, \"max_score\": 0.8091834524583061, \"min_score\": 0.7002227791701476, \"dt__criterion\": \"gini\", \"dt__max_depth\": 3, \"dt__min_samples_split\": 100, \"rfi_fs__n_features_\": 45}, {\"mean_score\": 0.7702422929840151, \"std_score\": 0.038166592682850255, \"max_score\": 0.8081159689346824, \"min_score\": 0.6972678610105509, \"dt__criterion\": \"gini\", \"dt__max_depth\": 4, \"dt__min_samples_split\": 10, \"rfi_fs__n_features_\": 45}, {\"mean_score\": 0.7699108023622852, \"std_score\": 0.03763716457321233, \"max_score\": 0.8102818775333396, \"min_score\": 0.6986911723753828, \"dt__criterion\": \"gini\", \"dt__max_depth\": 3, \"dt__min_samples_split\": 50, \"rfi_fs__n_features_\": 45}, {\"mean_score\": 0.769910678298854, \"std_score\": 0.03482904098441868, \"max_score\": 0.8016801262415297, \"min_score\": 0.7023422754416906, \"dt__criterion\": \"entropy\", \"dt__max_depth\": 3, \"dt__min_samples_split\": 100, \"rfi_fs__n_features_\": 45}, {\"mean_score\": 0.7698157185120352, \"std_score\": 0.036295811355077784, \"max_score\": 0.8002104025495839, \"min_score\": 0.6984745815155171, \"dt__criterion\": \"gini\", \"dt__max_depth\": 4, \"dt__min_samples_split\": 5, \"rfi_fs__n_features_\": 45}, {\"mean_score\": 0.7697712062648093, \"std_score\": 0.0381474098305554, \"max_score\": 0.8061202388687768, \"min_score\": 0.6965562053281351, \"dt__criterion\": \"gini\", \"dt__max_depth\": 3, \"dt__min_samples_split\": 10, \"rfi_fs__n_features_\": 45}, {\"mean_score\": 0.7695804450538846, \"std_score\": 0.03604579600252252, \"max_score\": 0.8053621708592469, \"min_score\": 0.7005476654599461, \"dt__criterion\": \"entropy\", \"dt__max_depth\": 3, \"dt__min_samples_split\": 50, \"rfi_fs__n_features_\": 45}, {\"mean_score\": 0.7695282914775109, \"std_score\": 0.03864997363592854, \"max_score\": 0.8066771867941459, \"min_score\": 0.6962777313654507, \"dt__criterion\": \"gini\", \"dt__max_depth\": 3, \"dt__min_samples_split\": 2, \"rfi_fs__n_features_\": 45}, {\"mean_score\": 0.7694705324726465, \"std_score\": 0.038133296133642657, \"max_score\": 0.8061821219715956, \"min_score\": 0.6971750363563229, \"dt__criterion\": \"gini\", \"dt__max_depth\": 3, \"dt__min_samples_split\": 5, \"rfi_fs__n_features_\": 45}, {\"mean_score\": 0.769327705646791, \"std_score\": 0.037521257906013926, \"max_score\": 0.8028713759707912, \"min_score\": 0.6967573254122962, \"dt__criterion\": \"entropy\", \"dt__max_depth\": 3, \"dt__min_samples_split\": 2, \"rfi_fs__n_features_\": 45}, {\"mean_score\": 0.7691062494123212, \"std_score\": 0.038239242941702015, \"max_score\": 0.8003651103066308, \"min_score\": 0.6939725857854513, \"dt__criterion\": \"entropy\", \"dt__max_depth\": 4, \"dt__min_samples_split\": 10, \"rfi_fs__n_features_\": 45}, {\"mean_score\": 0.7690075164605743, \"std_score\": 0.03722867716814374, \"max_score\": 0.802778551316563, \"min_score\": 0.6971905071320276, \"dt__criterion\": \"entropy\", \"dt__max_depth\": 3, \"dt__min_samples_split\": 5, \"rfi_fs__n_features_\": 45}, {\"mean_score\": 0.7688426284477707, \"std_score\": 0.036552421253080856, \"max_score\": 0.7959249976793836, \"min_score\": 0.6964014975710882, \"dt__criterion\": \"gini\", \"dt__max_depth\": 4, \"dt__min_samples_split\": 2, \"rfi_fs__n_features_\": 45}, {\"mean_score\": 0.7687238696453809, \"std_score\": 0.03676938817093326, \"max_score\": 0.8032581453634086, \"min_score\": 0.6982579906556515, \"dt__criterion\": \"gini\", \"dt__max_depth\": 3, \"dt__min_samples_split\": 150, \"rfi_fs__n_features_\": 45}, {\"mean_score\": 0.7687084980075507, \"std_score\": 0.03681417862145147, \"max_score\": 0.8024072526996504, \"min_score\": 0.6976855719545778, \"dt__criterion\": \"entropy\", \"dt__max_depth\": 3, \"dt__min_samples_split\": 10, \"rfi_fs__n_features_\": 45}, {\"mean_score\": 0.7686225465990899, \"std_score\": 0.03843072010624888, \"max_score\": 0.803985271821529, \"min_score\": 0.6942665305238405, \"dt__criterion\": \"entropy\", \"dt__max_depth\": 4, \"dt__min_samples_split\": 5, \"rfi_fs__n_features_\": 45}, {\"mean_score\": 0.7684544026501741, \"std_score\": 0.03477851374204007, \"max_score\": 0.7962498839691822, \"min_score\": 0.7003774869271945, \"dt__criterion\": \"entropy\", \"dt__max_depth\": 4, \"dt__min_samples_split\": 100, \"rfi_fs__n_features_\": 45}, {\"mean_score\": 0.7684224197748479, \"std_score\": 0.03310073614516682, \"max_score\": 0.8006126427179059, \"min_score\": 0.7047247749002135, \"dt__criterion\": \"gini\", \"dt__max_depth\": 4, \"dt__min_samples_split\": 150, \"rfi_fs__n_features_\": 45}, {\"mean_score\": 0.7681812598407979, \"std_score\": 0.035237087711489416, \"max_score\": 0.7969305981001886, \"min_score\": 0.6996348896933693, \"dt__criterion\": \"entropy\", \"dt__max_depth\": 4, \"dt__min_samples_split\": 150, \"rfi_fs__n_features_\": 45}, {\"mean_score\": 0.7676807768606377, \"std_score\": 0.03471102389120524, \"max_score\": 0.794842043380055, \"min_score\": 0.6996194189176645, \"dt__criterion\": \"entropy\", \"dt__max_depth\": 3, \"dt__min_samples_split\": 150, \"rfi_fs__n_features_\": 45}, {\"mean_score\": 0.7667372636500399, \"std_score\": 0.03861720969692572, \"max_score\": 0.8002877564281072, \"min_score\": 0.6915746155512236, \"dt__criterion\": \"entropy\", \"dt__max_depth\": 4, \"dt__min_samples_split\": 2, \"rfi_fs__n_features_\": 45}, {\"mean_score\": 0.7665064602377587, \"std_score\": 0.03259635930836387, \"max_score\": 0.7941999027237354, \"min_score\": 0.7037810575822271, \"dt__criterion\": \"entropy\", \"dt__max_depth\": 4, \"dt__min_samples_split\": 50, \"rfi_fs__n_features_\": 45}, {\"mean_score\": 0.7660624243316535, \"std_score\": 0.03414346494094362, \"max_score\": 0.7978897861938797, \"min_score\": 0.7006714316655838, \"dt__criterion\": \"gini\", \"dt__max_depth\": 4, \"dt__min_samples_split\": 50, \"rfi_fs__n_features_\": 45}, {\"mean_score\": 0.7653153828240438, \"std_score\": 0.035860910296563596, \"max_score\": 0.7973637798199201, \"min_score\": 0.6956589003372631, \"dt__criterion\": \"gini\", \"dt__max_depth\": 1, \"dt__min_samples_split\": 150, \"rfi_fs__n_features_\": 45}, {\"mean_score\": 0.7653153828240438, \"std_score\": 0.035860910296563596, \"max_score\": 0.7973637798199201, \"min_score\": 0.6956589003372631, \"dt__criterion\": \"gini\", \"dt__max_depth\": 1, \"dt__min_samples_split\": 2, \"rfi_fs__n_features_\": 45}, {\"mean_score\": 0.7653153828240438, \"std_score\": 0.035860910296563596, \"max_score\": 0.7973637798199201, \"min_score\": 0.6956589003372631, \"dt__criterion\": \"gini\", \"dt__max_depth\": 1, \"dt__min_samples_split\": 5, \"rfi_fs__n_features_\": 45}, {\"mean_score\": 0.7653153828240438, \"std_score\": 0.035860910296563596, \"max_score\": 0.7973637798199201, \"min_score\": 0.6956589003372631, \"dt__criterion\": \"gini\", \"dt__max_depth\": 1, \"dt__min_samples_split\": 10, \"rfi_fs__n_features_\": 45}, {\"mean_score\": 0.7653153828240438, \"std_score\": 0.035860910296563596, \"max_score\": 0.7973637798199201, \"min_score\": 0.6956589003372631, \"dt__criterion\": \"gini\", \"dt__max_depth\": 1, \"dt__min_samples_split\": 50, \"rfi_fs__n_features_\": 45}, {\"mean_score\": 0.7653153828240438, \"std_score\": 0.035860910296563596, \"max_score\": 0.7973637798199201, \"min_score\": 0.6956589003372631, \"dt__criterion\": \"gini\", \"dt__max_depth\": 1, \"dt__min_samples_split\": 100, \"rfi_fs__n_features_\": 45}, {\"mean_score\": 0.7647769153648039, \"std_score\": 0.03571072722156115, \"max_score\": 0.804047154924348, \"min_score\": 0.6992326495250472, \"dt__criterion\": \"gini\", \"dt__max_depth\": 10, \"dt__min_samples_split\": 150, \"rfi_fs__n_features_\": 45}, {\"mean_score\": 0.7646732863753153, \"std_score\": 0.03947060229735702, \"max_score\": 0.801819363222872, \"min_score\": 0.6897335932423652, \"dt__criterion\": \"entropy\", \"dt__max_depth\": 10, \"dt__min_samples_split\": 100, \"rfi_fs__n_features_\": 45}, {\"mean_score\": 0.764596739144241, \"std_score\": 0.03677105072689951, \"max_score\": 0.7900151613601907, \"min_score\": 0.6916829109811565, \"dt__criterion\": \"entropy\", \"dt__max_depth\": 1, \"dt__min_samples_split\": 5, \"rfi_fs__n_features_\": 45}, {\"mean_score\": 0.764596739144241, \"std_score\": 0.03677105072689951, \"max_score\": 0.7900151613601907, \"min_score\": 0.6916829109811565, \"dt__criterion\": \"entropy\", \"dt__max_depth\": 1, \"dt__min_samples_split\": 10, \"rfi_fs__n_features_\": 45}, {\"mean_score\": 0.764596739144241, \"std_score\": 0.03677105072689951, \"max_score\": 0.7900151613601907, \"min_score\": 0.6916829109811565, \"dt__criterion\": \"entropy\", \"dt__max_depth\": 1, \"dt__min_samples_split\": 50, \"rfi_fs__n_features_\": 45}, {\"mean_score\": 0.764596739144241, \"std_score\": 0.03677105072689951, \"max_score\": 0.7900151613601907, \"min_score\": 0.6916829109811565, \"dt__criterion\": \"entropy\", \"dt__max_depth\": 1, \"dt__min_samples_split\": 100, \"rfi_fs__n_features_\": 45}, {\"mean_score\": 0.764596739144241, \"std_score\": 0.03677105072689951, \"max_score\": 0.7900151613601907, \"min_score\": 0.6916829109811565, \"dt__criterion\": \"entropy\", \"dt__max_depth\": 1, \"dt__min_samples_split\": 2, \"rfi_fs__n_features_\": 45}, {\"mean_score\": 0.764596739144241, \"std_score\": 0.03677105072689951, \"max_score\": 0.7900151613601907, \"min_score\": 0.6916829109811565, \"dt__criterion\": \"entropy\", \"dt__max_depth\": 1, \"dt__min_samples_split\": 150, \"rfi_fs__n_features_\": 45}, {\"mean_score\": 0.7609009055204543, \"std_score\": 0.03849837268083346, \"max_score\": 0.794640923295894, \"min_score\": 0.6907546644388749, \"dt__criterion\": \"gini\", \"dt__max_depth\": 10, \"dt__min_samples_split\": 10, \"rfi_fs__n_features_\": 45}, {\"mean_score\": 0.7604174565716664, \"std_score\": 0.03553330597649199, \"max_score\": 0.799189331353074, \"min_score\": 0.6962932021411553, \"dt__criterion\": \"gini\", \"dt__max_depth\": 10, \"dt__min_samples_split\": 5, \"rfi_fs__n_features_\": 45}, {\"mean_score\": 0.7603146122198902, \"std_score\": 0.03407587073403154, \"max_score\": 0.7866270614808627, \"min_score\": 0.6933846963086729, \"dt__criterion\": \"entropy\", \"dt__max_depth\": 10, \"dt__min_samples_split\": 150, \"rfi_fs__n_features_\": 45}, {\"mean_score\": 0.7581414127548178, \"std_score\": 0.036637989770363054, \"max_score\": 0.7924440731458275, \"min_score\": 0.6884959311859897, \"dt__criterion\": \"entropy\", \"dt__max_depth\": 10, \"dt__min_samples_split\": 50, \"rfi_fs__n_features_\": 45}, {\"mean_score\": 0.7580895897947901, \"std_score\": 0.03723763900422604, \"max_score\": 0.7970853058572356, \"min_score\": 0.6904761904761905, \"dt__criterion\": \"gini\", \"dt__max_depth\": 10, \"dt__min_samples_split\": 50, \"rfi_fs__n_features_\": 45}, {\"mean_score\": 0.7578935366530366, \"std_score\": 0.037667118840396925, \"max_score\": 0.7886382623224728, \"min_score\": 0.685339892942232, \"dt__criterion\": \"entropy\", \"dt__max_depth\": 10, \"dt__min_samples_split\": 5, \"rfi_fs__n_features_\": 45}, {\"mean_score\": 0.7578866363183623, \"std_score\": 0.03493143990809866, \"max_score\": 0.7868900646678425, \"min_score\": 0.6919923264952506, \"dt__criterion\": \"gini\", \"dt__max_depth\": 10, \"dt__min_samples_split\": 2, \"rfi_fs__n_features_\": 45}, {\"mean_score\": 0.7577265414430779, \"std_score\": 0.04141556086505334, \"max_score\": 0.8003805810823355, \"min_score\": 0.6807605433336428, \"dt__criterion\": \"entropy\", \"dt__max_depth\": 10, \"dt__min_samples_split\": 10, \"rfi_fs__n_features_\": 45}, {\"mean_score\": 0.7574387039363673, \"std_score\": 0.03881325214150705, \"max_score\": 0.8019121878771002, \"min_score\": 0.6865156718957888, \"dt__criterion\": \"gini\", \"dt__max_depth\": 10, \"dt__min_samples_split\": 100, \"rfi_fs__n_features_\": 45}, {\"mean_score\": 0.754443654878056, \"std_score\": 0.04151858790835677, \"max_score\": 0.7897057458460967, \"min_score\": 0.6739534020235776, \"dt__criterion\": \"entropy\", \"dt__max_depth\": 10, \"dt__min_samples_split\": 2, \"rfi_fs__n_features_\": 45}]}}, {\"mode\": \"vega-lite\"});\n",
       "</script>"
      ],
      "text/plain": [
       "alt.Chart(...)"
      ]
     },
     "execution_count": 90,
     "metadata": {},
     "output_type": "execute_result"
    }
   ],
   "source": [
    "results_RF = get_search_results(gs_pipe_RF)\n",
    "\n",
    "results_RF_45_features = results_RF[results_RF['rfi_fs__n_features_'] == 45.0]\n",
    "\n",
    "alt.Chart(results_RF_45_features, \n",
    "          title='RF Performance Comparison with 45 Features'\n",
    "         ).mark_line(point=True).encode(\n",
    "    alt.X('dt__min_samples_split', title='Min Samples for Split'),\n",
    "    alt.Y('mean_score', title='AUC Score', scale=alt.Scale(zero=False)),\n",
    "    alt.Color('dt__max_depth:N', title='Max Depth')\n",
    ")"
   ]
  },
  {
   "cell_type": "code",
   "execution_count": 91,
   "metadata": {},
   "outputs": [],
   "source": [
    "#?RandomForestClassifier"
   ]
  },
  {
   "cell_type": "code",
   "execution_count": 92,
   "metadata": {},
   "outputs": [],
   "source": [
    "#?KNeighborsClassifier"
   ]
  },
  {
   "cell_type": "markdown",
   "metadata": {},
   "source": [
    "## PERFORMANCE COMPARISON\n",
    "Here we focus on comparing the different classifiers we used earlier using our reserved test data with their best hyperparameters. The Scoring system is roc_auc as mentioned earlier as well. "
   ]
  },
  {
   "cell_type": "code",
   "execution_count": 93,
   "metadata": {},
   "outputs": [
    {
     "data": {
      "text/plain": [
       "0.6972728172728173"
      ]
     },
     "execution_count": 93,
     "metadata": {},
     "output_type": "execute_result"
    }
   ],
   "source": [
    "from sklearn.model_selection import cross_val_score\n",
    "\n",
    "cv_method_ttest = StratifiedKFold(n_splits=10, random_state=8)\n",
    "\n",
    "cv_results_KNN = cross_val_score(estimator=gs_pipe_KNN.best_estimator_,\n",
    "                                 X=D_test,\n",
    "                                 y=t_test, \n",
    "                                 cv=cv_method_ttest, \n",
    "                                 n_jobs=-2,\n",
    "                                 scoring='roc_auc')\n",
    "cv_results_KNN.mean()"
   ]
  },
  {
   "cell_type": "code",
   "execution_count": 94,
   "metadata": {},
   "outputs": [
    {
     "data": {
      "text/plain": [
       "0.7575758925758926"
      ]
     },
     "execution_count": 94,
     "metadata": {},
     "output_type": "execute_result"
    }
   ],
   "source": [
    "Data_transformed = PowerTransformer().fit_transform(D_test)\n",
    "\n",
    "cv_results_NB = cross_val_score(estimator=gs_pipe_NB.best_estimator_,\n",
    "                                X=Data_transformed,\n",
    "                                y=t_test, \n",
    "                                cv=cv_method_ttest, \n",
    "                                n_jobs=-2,\n",
    "                                scoring='roc_auc')\n",
    "cv_results_NB.mean()"
   ]
  },
  {
   "cell_type": "code",
   "execution_count": 95,
   "metadata": {},
   "outputs": [
    {
     "data": {
      "text/plain": [
       "0.7507393057393059"
      ]
     },
     "execution_count": 95,
     "metadata": {},
     "output_type": "execute_result"
    }
   ],
   "source": [
    "cv_results_DT2 = cross_val_score(estimator=gs_pipe_DT2.best_estimator_,\n",
    "                                X=D_test,\n",
    "                                y=t_test, \n",
    "                                cv=cv_method_ttest, \n",
    "                                n_jobs=-2,\n",
    "                                scoring='roc_auc')\n",
    "cv_results_DT2.mean()"
   ]
  },
  {
   "cell_type": "code",
   "execution_count": 96,
   "metadata": {},
   "outputs": [
    {
     "data": {
      "text/plain": [
       "0.781944541944542"
      ]
     },
     "execution_count": 96,
     "metadata": {},
     "output_type": "execute_result"
    }
   ],
   "source": [
    "cv_results_RF = cross_val_score(estimator=gs_pipe_RF.best_estimator_,\n",
    "                                X=D_test,\n",
    "                                y=t_test, \n",
    "                                cv=cv_method_ttest, \n",
    "                                n_jobs=-2,\n",
    "                                scoring='roc_auc')\n",
    "cv_results_RF.mean()"
   ]
  },
  {
   "cell_type": "markdown",
   "metadata": {},
   "source": [
    "We compare different combinations of classifiers in pairs by using paired t tests. The combinations we use are: \n",
    "- KNN vs NB\n",
    "- KNN vs DT \n",
    "- KNN vs RF\n",
    "- DT vs NB\n",
    "- DT vs RF \n",
    "- NB vs RF "
   ]
  },
  {
   "cell_type": "code",
   "execution_count": 97,
   "metadata": {},
   "outputs": [
    {
     "name": "stdout",
     "output_type": "stream",
     "text": [
      "----------------------------------------------------\n",
      "T test Results for KNN and NB\n",
      "Ttest_relResult(statistic=-2.9234616401142417, pvalue=0.016936171388041443)\n",
      "----------------------------------------------------\n",
      "T test Results for KNN and DT\n",
      "Ttest_relResult(statistic=-2.340347070921001, pvalue=0.04399526071698226)\n",
      "----------------------------------------------------\n",
      "T test Results for KNN and RF\n",
      "Ttest_relResult(statistic=-3.4378868277322843, pvalue=0.007415230330069885)\n",
      "----------------------------------------------------\n",
      "T test Results for DT and NB\n",
      "Ttest_relResult(statistic=-0.39234134645945334, pvalue=0.7039355204738371)\n",
      "----------------------------------------------------\n",
      "T test Results for DT and RF\n",
      "Ttest_relResult(statistic=-1.676911828060038, pvalue=0.12787418403124584)\n",
      "----------------------------------------------------\n",
      "T test Results for NB and RF\n",
      "Ttest_relResult(statistic=-1.846418657906592, pvalue=0.09790721969410972)\n"
     ]
    }
   ],
   "source": [
    "from scipy import stats\n",
    "\n",
    "print('----------------------------------------------------')\n",
    "print('T test Results for KNN and NB')\n",
    "print(stats.ttest_rel(cv_results_KNN, cv_results_NB))\n",
    "print('----------------------------------------------------')\n",
    "print('T test Results for KNN and DT')\n",
    "print(stats.ttest_rel(cv_results_KNN, cv_results_DT2))\n",
    "print('----------------------------------------------------')\n",
    "print('T test Results for KNN and RF')\n",
    "print(stats.ttest_rel(cv_results_KNN, cv_results_RF))\n",
    "print('----------------------------------------------------')\n",
    "print('T test Results for DT and NB')\n",
    "print(stats.ttest_rel(cv_results_DT2, cv_results_NB))\n",
    "print('----------------------------------------------------')\n",
    "print('T test Results for DT and RF')\n",
    "print(stats.ttest_rel(cv_results_DT2, cv_results_RF))\n",
    "print('----------------------------------------------------')\n",
    "print('T test Results for NB and RF')\n",
    "print(stats.ttest_rel(cv_results_NB, cv_results_RF))\n"
   ]
  },
  {
   "cell_type": "markdown",
   "metadata": {},
   "source": [
    "Note: A p-value of less than 0.05 in a 95% Confidence Interval means that there is a Statistical Significance between the two classifiers subjected to paired t-test. \n",
    "<br> Therefore the above values shows that:\n",
    "- There is a significant difference in using  NB over KNN (NB yields high prediction power than KNN even statistically) \n",
    "- There is a significant difference in using  DT over KNN \n",
    "- There is a significant difference in using RF over KNN\n",
    "- There is no significant difference in using either DT or NB \n",
    "- There is no significant difference in using either DT or RF\n",
    "- There is no significant difference in using either NB or RF \n",
    "\n"
   ]
  },
  {
   "cell_type": "markdown",
   "metadata": {},
   "source": [
    "#### Classification report\n",
    "In this section we take a look at other metrices apart from AUC_ROC which we used to tune our parameters such as \n",
    "- Accuracy\n",
    "- Precision\n",
    "- Recall\n",
    "- F1 Score \n",
    "- Confusion Matrix\n"
   ]
  },
  {
   "cell_type": "code",
   "execution_count": 98,
   "metadata": {},
   "outputs": [],
   "source": [
    "pred_KNN = gs_pipe_KNN.predict(D_test)"
   ]
  },
  {
   "cell_type": "code",
   "execution_count": 99,
   "metadata": {},
   "outputs": [],
   "source": [
    "Data_transformed = PowerTransformer().fit_transform(D_test)\n",
    "pred_NB = gs_pipe_NB.predict(Data_transformed)"
   ]
  },
  {
   "cell_type": "code",
   "execution_count": 100,
   "metadata": {},
   "outputs": [],
   "source": [
    "pred_DT = gs_pipe_DT2.predict(D_test)"
   ]
  },
  {
   "cell_type": "code",
   "execution_count": 101,
   "metadata": {},
   "outputs": [],
   "source": [
    "pred_RF = gs_pipe_RF.predict(D_test)"
   ]
  },
  {
   "cell_type": "code",
   "execution_count": 102,
   "metadata": {},
   "outputs": [
    {
     "name": "stdout",
     "output_type": "stream",
     "text": [
      "\n",
      "Classification report for K-Nearest Neighbor\n",
      "              precision    recall  f1-score   support\n",
      "\n",
      "           0       0.91      0.99      0.95      1101\n",
      "           1       0.78      0.23      0.35       135\n",
      "\n",
      "    accuracy                           0.91      1236\n",
      "   macro avg       0.84      0.61      0.65      1236\n",
      "weighted avg       0.90      0.91      0.89      1236\n",
      "\n",
      "\n",
      "Classification report for Naive Bayes\n",
      "              precision    recall  f1-score   support\n",
      "\n",
      "           0       0.92      0.95      0.93      1101\n",
      "           1       0.43      0.32      0.37       135\n",
      "\n",
      "    accuracy                           0.88      1236\n",
      "   macro avg       0.68      0.63      0.65      1236\n",
      "weighted avg       0.87      0.88      0.87      1236\n",
      "\n",
      "\n",
      "Classification report for Decision Tree\n",
      "              precision    recall  f1-score   support\n",
      "\n",
      "           0       0.92      0.98      0.95      1101\n",
      "           1       0.61      0.30      0.40       135\n",
      "\n",
      "    accuracy                           0.90      1236\n",
      "   macro avg       0.76      0.64      0.67      1236\n",
      "weighted avg       0.88      0.90      0.89      1236\n",
      "\n",
      "\n",
      "Classification report for Random Forest\n",
      "              precision    recall  f1-score   support\n",
      "\n",
      "           0       0.91      0.99      0.95      1101\n",
      "           1       0.80      0.21      0.33       135\n",
      "\n",
      "    accuracy                           0.91      1236\n",
      "   macro avg       0.86      0.60      0.64      1236\n",
      "weighted avg       0.90      0.91      0.88      1236\n",
      "\n"
     ]
    }
   ],
   "source": [
    "from sklearn import metrics\n",
    "print(\"\\nClassification report for K-Nearest Neighbor\") \n",
    "print(metrics.classification_report(t_test, pred_KNN))\n",
    "print(\"\\nClassification report for Naive Bayes\") \n",
    "print(metrics.classification_report(t_test, pred_NB))\n",
    "print(\"\\nClassification report for Decision Tree\") \n",
    "print(metrics.classification_report(t_test, pred_DT))\n",
    "print(\"\\nClassification report for Random Forest\") \n",
    "print(metrics.classification_report(t_test, pred_RF))"
   ]
  },
  {
   "cell_type": "code",
   "execution_count": 103,
   "metadata": {},
   "outputs": [
    {
     "name": "stdout",
     "output_type": "stream",
     "text": [
      "\n",
      "Confusion matrix for K-Nearest Neighbor\n",
      "[[1092    9]\n",
      " [ 104   31]]\n",
      "\n",
      "Confusion matrix for Naive Bayes\n",
      "[[1045   56]\n",
      " [  92   43]]\n",
      "\n",
      "Confusion matrix for Decision Tree\n",
      "[[1075   26]\n",
      " [  95   40]]\n",
      "\n",
      "Confusion matrix for Random Forest\n",
      "[[1094    7]\n",
      " [ 107   28]]\n"
     ]
    }
   ],
   "source": [
    "from sklearn import metrics\n",
    "print(\"\\nConfusion matrix for K-Nearest Neighbor\") \n",
    "print(metrics.confusion_matrix(t_test, pred_KNN))\n",
    "print(\"\\nConfusion matrix for Naive Bayes\") \n",
    "print(metrics.confusion_matrix(t_test, pred_NB))\n",
    "print(\"\\nConfusion matrix for Decision Tree\") \n",
    "print(metrics.confusion_matrix(t_test, pred_DT))\n",
    "print(\"\\nConfusion matrix for Random Forest\") \n",
    "print(metrics.confusion_matrix(t_test, pred_RF))"
   ]
  },
  {
   "cell_type": "markdown",
   "metadata": {},
   "source": [
    "Based on the above metrices we can chose which model we use, this depend on the context of the targeted problem. For example the Random Forest classifier in this case yields a high precision but a low recall for the positive class (Yes for subscribing to a term deposit) which essentially means the model can’t detect the class well but is highly trustable when it does. In some instances the bank might be more interested in the customers who would say \"No\" so that the Bank can contact these customers for a different financial service. So just because an algorithm gives a very high prediction capability doesn't mean that it's the best in every scenario. (An algorithm that can detect the most profitable opportunites for a business but will also catch potential losses as opportunities which might ultimately result in more bad than good)"
   ]
  },
  {
   "cell_type": "markdown",
   "metadata": {},
   "source": [
    "## CRITIQUE"
   ]
  },
  {
   "cell_type": "markdown",
   "metadata": {},
   "source": [
    "There were several limitations that we experienced throughout the entire project. One being the medicore availability of time and commitment and the computational power we had to deal with. Therefore we had to stick to less demanding approaches like not using Wrapper techniques for feature selection which would have been ideal as different models work differently and it's only fair that they get a chance to choose their features specifically for them. The dataset we used was the 10% of the original dataset which was already in a different csv uploaded by the source site. It was a highly imbalanced set with fewer positive class instances. If we used the full dataset it would have been more accurate and reasonable and we would have more options to deal with. Also, though we understood the dataset and the target problem, we were unable to go into an in depth analysis and understanding which would have benifited us in interpreting. For example, some more features which has no connection to the outcome could have been dropped before introducing to the model if we were 100% on what the features meant because sometimes it can make a difference. We also performed a power transformation on all the features including the dummy features in Naive Bayes which ultimately effects performance. \n",
    "The Random Forest Classifier appears to be more ideal for this dataset depending on best score using AUC though there is no significant difference between Random Forest or Decision Tree or Naive Bayes. We can further improve the Random Forest Classifier in future. "
   ]
  },
  {
   "cell_type": "markdown",
   "metadata": {},
   "source": [
    "# SUMMARY AND CONCLUSION"
   ]
  },
  {
   "cell_type": "markdown",
   "metadata": {},
   "source": [
    "According to the project we conducted the Random Forest Classifier with all the features (45) with 'gini' criteria, performed the best according to AUC_ROC. It has an accuracy of 91% as well, which is also similar to the KNN classifier. The Recall values for the positive class in all the classifiers are not ideal. More improvements should be done in the future. Though there is no significant difference in using RF or NB or DT, both RF and DT uses all 45 features while NB uses only 10 which should be considered as this may reduce over-fitting and is easier to deal with in general. Going back to our goals and objectives the main goal was to perform a Binary Classification which was attempted with reasonable results but with so much room for improvement. Other exploration goals were all clearly explored and visualized which helped us understand the customer base in the Bank.\n"
   ]
  },
  {
   "cell_type": "markdown",
   "metadata": {},
   "source": [
    "# REFERENCES \n",
    "Dataset: <br>\n",
    "S. Moro, P. Cortez and P. Rita.(2014). UCI Machine Learning Repository: Bank Marketing Data Set. Retrieved May 28, 2020, from https://archive.ics.uci.edu/ml/datasets/Bank+Marketing?fbclid=IwAR32qBRG2WidV7NfJEaO2A1kdFQ8BXejiBeU21wH41d5F_vTBGfuPRicX_I\n",
    "\n",
    "Inspired from: <br>\n",
    "V. Aksakalli,Z. Yenice, Y. Kai Wong, I. Ture, M. Malekipirbazari  (n.d.). Feature Selection and Ranking in Machine Learning. Retrieved May 31, 2020, from http://www.featureranking.com/"
   ]
  }
 ],
 "metadata": {
  "kernelspec": {
   "display_name": "Python 3",
   "language": "python",
   "name": "python3"
  },
  "language_info": {
   "codemirror_mode": {
    "name": "ipython",
    "version": 3
   },
   "file_extension": ".py",
   "mimetype": "text/x-python",
   "name": "python",
   "nbconvert_exporter": "python",
   "pygments_lexer": "ipython3",
   "version": "3.7.4"
  }
 },
 "nbformat": 4,
 "nbformat_minor": 2
}
